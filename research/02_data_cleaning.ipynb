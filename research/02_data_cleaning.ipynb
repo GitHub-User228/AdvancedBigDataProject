{
 "cells": [
  {
   "cell_type": "code",
   "execution_count": 1,
   "id": "53fc82e6-9623-4545-8920-1bec331a1ffa",
   "metadata": {},
   "outputs": [],
   "source": [
    "import os, socket\n",
    "from pyspark.sql import SparkSession\n",
    "\n",
    "\n",
    "import warnings\n",
    "warnings.filterwarnings(\"ignore\")"
   ]
  },
  {
   "cell_type": "code",
   "execution_count": 2,
   "id": "43d41cc1",
   "metadata": {},
   "outputs": [
    {
     "data": {
      "text/plain": [
       "'/home/jovyan/nfs-home/scalable_ml_pipelines/src'"
      ]
     },
     "execution_count": 2,
     "metadata": {},
     "output_type": "execute_result"
    }
   ],
   "source": [
    "os.chdir(\"../src/\")\n",
    "%pwd"
   ]
  },
  {
   "cell_type": "code",
   "execution_count": 3,
   "id": "40198b14",
   "metadata": {},
   "outputs": [],
   "source": [
    "import socket\n",
    "\n",
    "LOCAL_IP = socket.gethostbyname(socket.gethostname())"
   ]
  },
  {
   "cell_type": "code",
   "execution_count": 4,
   "id": "29f995e9",
   "metadata": {},
   "outputs": [],
   "source": [
    "name_space = \"eabraham-373705\"\n",
    "\n",
    "# Master node\n",
    "kubernetes_master_url = \"k8s://https://10.32.7.103:6443\"\n",
    "\n",
    "# Resource settings\n",
    "driver_cores = \"8\"\n",
    "executor_cores = \"8\"\n",
    "driver_memory = \"30g\"\n",
    "executor_memory = \"30g\"\n",
    "executor_memory_overhead = \"2g\"\n",
    "\n",
    "# These are the limits\n",
    "cpu_limit = \"3\"  # 12 cores\n",
    "memory_limit = \"32g\"  # Upto 32 GB\n",
    "executor_limit = \"8\""
   ]
  },
  {
   "cell_type": "code",
   "execution_count": 5,
   "id": "above-wallace",
   "metadata": {},
   "outputs": [
    {
     "name": "stderr",
     "output_type": "stream",
     "text": [
      "WARNING: An illegal reflective access operation has occurred\n",
      "WARNING: Illegal reflective access by org.apache.spark.unsafe.Platform (file:/usr/local/spark-3.1.1-bin-hadoop3.2/jars/spark-unsafe_2.12-3.1.1.jar) to constructor java.nio.DirectByteBuffer(long,int)\n",
      "WARNING: Please consider reporting this to the maintainers of org.apache.spark.unsafe.Platform\n",
      "WARNING: Use --illegal-access=warn to enable warnings of further illegal reflective access operations\n",
      "WARNING: All illegal access operations will be denied in a future release\n",
      "23/12/15 14:05:18 WARN util.NativeCodeLoader: Unable to load native-hadoop library for your platform... using builtin-java classes where applicable\n",
      "Setting default log level to \"WARN\".\n",
      "To adjust logging level use sc.setLogLevel(newLevel). For SparkR, use setLogLevel(newLevel).\n",
      "23/12/15 14:05:18 WARN spark.SparkConf: Note that spark.local.dir will be overridden by the value set by the cluster manager (via SPARK_LOCAL_DIRS in mesos/standalone/kubernetes and LOCAL_DIRS in YARN).\n"
     ]
    }
   ],
   "source": [
    "from pyspark.sql import SparkSession\n",
    "\n",
    "APP_NAME = 'scalables_executor'\n",
    "\n",
    "\n",
    "spark = SparkSession\\\n",
    "    .builder\\\n",
    "    .appName(APP_NAME)\\\n",
    "    .master(kubernetes_master_url)\\\n",
    "    .config(\"spark.driver.host\", LOCAL_IP)\\\n",
    "    .config(\"spark.driver.bindAddress\", \"0.0.0.0\")\\\n",
    "    .config(\"spark.executor.instances\", \"2\")\\\n",
    "    .config(\"spark.executor.cores\", executor_cores)\\\n",
    "    .config(\"spark.executor.memory\", executor_memory)\\\n",
    "    .config(\"spark.memory.fraction\", \"0.7\")\\\n",
    "    .config(\"spark.memory.storageFraction\", \"0.3\")\\\n",
    "    .config(\"spark.kubernetes.executor.limit.cores\", executor_limit)\\\n",
    "    .config(\"spark.kubernetes.namespace\", name_space)\\\n",
    "    .config(\"spark.kubernetes.authenticate.driver.serviceAccountName\", \"spark\")\\\n",
    "    .config(\"spark.kubernetes.driver.label.appname\", APP_NAME)\\\n",
    "    .config(\"spark.kubernetes.executor.label.appname\", APP_NAME)\\\n",
    "    .config(\"spark.kubernetes.executor.deleteOnTermination\", \"false\") \\\n",
    "    .config(\"spark.kubernetes.container.image.pullPolicy\", \"Always\") \\\n",
    "    .config(\"spark.kubernetes.container.image\", \"node03.st:5000/pyspark-hdfs-jupyter:eabraham-373705-v4-executor\")\\\n",
    "    .config(\"spark.local.dir\", \"/tmp/spark\")\\\n",
    "    .config(\"spark.kubernetes.driver.volumes.emptyDir.spark-local-dir-tmp-spark.mount.path\", \"/tmp/spark\")\\\n",
    "    .config(\"spark.kubernetes.driver.volumes.emptyDir.spark-local-dir-tmp-spark.mount.readOnly\", \"false\")\\\n",
    "    .config(\"spark.kubernetes.executor.volumes.emptyDir.spark-local-dir-tmp-spark.mount.path\", \"/tmp/spark\")\\\n",
    "    .config(\"spark.kubernetes.executor.volumes.emptyDir.spark-local-dir-tmp-spark.mount.readOnly\", \"false\")\\\n",
    "    .getOrCreate()\n"
   ]
  },
  {
   "cell_type": "code",
   "execution_count": 6,
   "id": "7770b77f",
   "metadata": {},
   "outputs": [
    {
     "data": {
      "text/html": [
       "\n",
       "            <div>\n",
       "                <p><b>SparkSession - in-memory</b></p>\n",
       "                \n",
       "        <div>\n",
       "            <p><b>SparkContext</b></p>\n",
       "\n",
       "            <p><a href=\"http://10.128.112.52:4040\">Spark UI</a></p>\n",
       "\n",
       "            <dl>\n",
       "              <dt>Version</dt>\n",
       "                <dd><code>v3.1.1</code></dd>\n",
       "              <dt>Master</dt>\n",
       "                <dd><code>k8s://https://10.32.7.103:6443</code></dd>\n",
       "              <dt>AppName</dt>\n",
       "                <dd><code>scalables_executor</code></dd>\n",
       "            </dl>\n",
       "        </div>\n",
       "        \n",
       "            </div>\n",
       "        "
      ],
      "text/plain": [
       "<pyspark.sql.session.SparkSession at 0x7f9688ff8a60>"
      ]
     },
     "execution_count": 6,
     "metadata": {},
     "output_type": "execute_result"
    }
   ],
   "source": [
    "spark"
   ]
  },
  {
   "cell_type": "code",
   "execution_count": 7,
   "id": "281c370e",
   "metadata": {},
   "outputs": [
    {
     "name": "stdout",
     "output_type": "stream",
     "text": [
      "[2023-12-15 14:05:25,640: 145: numexpr.utils: INFO: utils:  Note: NumExpr detected 16 cores but \"NUMEXPR_MAX_THREADS\" not set, so enforcing safe limit of 8.]\n",
      "[2023-12-15 14:05:25,641: 157: numexpr.utils: INFO: utils:  NumExpr defaulting to 8 threads.]\n"
     ]
    }
   ],
   "source": [
    "from us_used_cars_ml_pipeline.config.configuration import ConfigurationManager\n",
    "from us_used_cars_ml_pipeline.components.data_cleaning import CleanData"
   ]
  },
  {
   "cell_type": "code",
   "execution_count": 8,
   "id": "0fd5ed23-5b57-40cb-af5e-ac5084da6e94",
   "metadata": {},
   "outputs": [
    {
     "name": "stdout",
     "output_type": "stream",
     "text": [
      "[2023-12-15 14:05:26,441: 44: us_used_cars_ml_pipeline_logger: INFO: common:  yaml file: us_used_cars_ml_pipeline/config/config.yaml loaded successfully]\n",
      "[2023-12-15 14:05:26,444: 44: us_used_cars_ml_pipeline_logger: INFO: common:  yaml file: us_used_cars_ml_pipeline/params.yaml loaded successfully]\n",
      "[2023-12-15 14:05:26,447: 44: us_used_cars_ml_pipeline_logger: INFO: common:  yaml file: us_used_cars_ml_pipeline/schema.yaml loaded successfully]\n"
     ]
    },
    {
     "data": {
      "text/plain": [
       "CleanDataConfig(path_to_cleaned_data='hdfs:///home/eabraham-373705/data/cleaned/', path_to_raw_data='hdfs:///home/eabraham-373705/data/raw/raw_data.parquet', features_to_encode='us_used_cars_ml_pipeline/constants/features_to_encode.yaml', features_with_nans='us_used_cars_ml_pipeline/constants/features_with_nans.yaml', features_to_drop='us_used_cars_ml_pipeline/constants/features_to_drop.yaml', glove_model='us_used_cars_ml_pipeline/models/glove/glove-twitter-25.bin', data_types='us_used_cars_ml_pipeline/constants/data_types.yaml', popular_options='us_used_cars_ml_pipeline/constants/popular_options.yaml', label_encodings='us_used_cars_ml_pipeline/constants/label_encodings', kfold_encodings='hdfs:///home/eabraham-373705/data/encodings/kfold_encodings', rare_classes='us_used_cars_ml_pipeline/constants/rare_classes.yaml', seed=42, n_folds=5, rare_classes_count=BoxList([1, 2, 3, 4, 5, 6, 7]))"
      ]
     },
     "execution_count": 8,
     "metadata": {},
     "output_type": "execute_result"
    }
   ],
   "source": [
    "config_manager = ConfigurationManager()\n",
    "data_cleaning_config = config_manager.get_clean_data_config()\n",
    "\n",
    "data_cleaning = CleanData(data_cleaning_config)\n",
    "\n",
    "data_cleaning_config"
   ]
  },
  {
   "cell_type": "code",
   "execution_count": 9,
   "id": "79a1e996",
   "metadata": {
    "scrolled": false
   },
   "outputs": [
    {
     "name": "stderr",
     "output_type": "stream",
     "text": [
      "                                                                                \r"
     ]
    },
    {
     "name": "stdout",
     "output_type": "stream",
     "text": [
      "[2023-12-15 14:05:44,914: 821: us_used_cars_ml_pipeline_logger: INFO: data_cleaning:  Raw data has been read]\n",
      "[2023-12-15 14:05:44,915: 824: us_used_cars_ml_pipeline_logger: INFO: data_cleaning:  PART I. STARTING]\n",
      "[2023-12-15 14:05:44,921: 44: us_used_cars_ml_pipeline_logger: INFO: common:  yaml file: us_used_cars_ml_pipeline/constants/data_types.yaml loaded successfully]\n",
      "[2023-12-15 14:05:44,928: 44: us_used_cars_ml_pipeline_logger: INFO: common:  yaml file: us_used_cars_ml_pipeline/constants/features_with_nans.yaml loaded successfully]\n",
      "[2023-12-15 14:05:44,931: 44: us_used_cars_ml_pipeline_logger: INFO: common:  yaml file: us_used_cars_ml_pipeline/constants/popular_options.yaml loaded successfully]\n",
      "[2023-12-15 14:05:44,935: 44: us_used_cars_ml_pipeline_logger: INFO: common:  yaml file: us_used_cars_ml_pipeline/constants/features_to_encode.yaml loaded successfully]\n",
      "[2023-12-15 14:05:45,147: 624: us_used_cars_ml_pipeline_logger: INFO: data_cleaning:  1. Rows with nans in specified columns have been dropped]\n",
      "[2023-12-15 14:05:45,176: 628: us_used_cars_ml_pipeline_logger: INFO: data_cleaning:  2. Index column has been created]\n"
     ]
    },
    {
     "data": {
      "application/vnd.jupyter.widget-view+json": {
       "model_id": "442e684149034a148b96b60ff94f7266",
       "version_major": 2,
       "version_minor": 0
      },
      "text/plain": [
       "  0%|          | 0/43 [00:00<?, ?it/s]"
      ]
     },
     "metadata": {},
     "output_type": "display_data"
    },
    {
     "name": "stdout",
     "output_type": "stream",
     "text": [
      "[2023-12-15 14:05:46,146: 645: us_used_cars_ml_pipeline_logger: INFO: data_cleaning:  3. Values in specified columns have been converted]\n",
      "[2023-12-15 14:05:46,316: 650: us_used_cars_ml_pipeline_logger: INFO: data_cleaning:  4. Features power and torque have been splitted]\n",
      "[2023-12-15 14:05:46,849: 654: us_used_cars_ml_pipeline_logger: INFO: data_cleaning:  5. Popular options features have been extracted]\n"
     ]
    },
    {
     "data": {
      "application/vnd.jupyter.widget-view+json": {
       "model_id": "38be137522a84f83b56426f00b037ee3",
       "version_major": 2,
       "version_minor": 0
      },
      "text/plain": [
       "  0%|          | 0/11 [00:00<?, ?it/s]"
      ]
     },
     "metadata": {},
     "output_type": "display_data"
    },
    {
     "name": "stderr",
     "output_type": "stream",
     "text": [
      "                                                                                \r"
     ]
    },
    {
     "name": "stdout",
     "output_type": "stream",
     "text": [
      "[2023-12-15 14:05:53,490: 109: us_used_cars_ml_pipeline_logger: INFO: common:  json file saved at: us_used_cars_ml_pipeline/constants/label_encodings/body_type.json]\n"
     ]
    },
    {
     "name": "stderr",
     "output_type": "stream",
     "text": [
      "                                                                                \r"
     ]
    },
    {
     "name": "stdout",
     "output_type": "stream",
     "text": [
      "[2023-12-15 14:05:56,373: 109: us_used_cars_ml_pipeline_logger: INFO: common:  json file saved at: us_used_cars_ml_pipeline/constants/label_encodings/fleet.json]\n"
     ]
    },
    {
     "name": "stderr",
     "output_type": "stream",
     "text": [
      "                                                                                \r"
     ]
    },
    {
     "name": "stdout",
     "output_type": "stream",
     "text": [
      "[2023-12-15 14:05:58,202: 109: us_used_cars_ml_pipeline_logger: INFO: common:  json file saved at: us_used_cars_ml_pipeline/constants/label_encodings/frame_damaged.json]\n"
     ]
    },
    {
     "name": "stderr",
     "output_type": "stream",
     "text": [
      "[Stage 13:===============================================>        (22 + 4) / 26]\r"
     ]
    },
    {
     "name": "stdout",
     "output_type": "stream",
     "text": [
      "[2023-12-15 14:06:00,152: 109: us_used_cars_ml_pipeline_logger: INFO: common:  json file saved at: us_used_cars_ml_pipeline/constants/label_encodings/franchise_dealer.json]\n"
     ]
    },
    {
     "name": "stderr",
     "output_type": "stream",
     "text": [
      "                                                                                \r"
     ]
    },
    {
     "name": "stdout",
     "output_type": "stream",
     "text": [
      "[2023-12-15 14:06:02,390: 109: us_used_cars_ml_pipeline_logger: INFO: common:  json file saved at: us_used_cars_ml_pipeline/constants/label_encodings/fuel_type.json]\n"
     ]
    },
    {
     "name": "stderr",
     "output_type": "stream",
     "text": [
      "                                                                                \r"
     ]
    },
    {
     "name": "stdout",
     "output_type": "stream",
     "text": [
      "[2023-12-15 14:06:05,008: 109: us_used_cars_ml_pipeline_logger: INFO: common:  json file saved at: us_used_cars_ml_pipeline/constants/label_encodings/has_accidents.json]\n"
     ]
    },
    {
     "name": "stderr",
     "output_type": "stream",
     "text": [
      "[Stage 34:===================================================>    (24 + 2) / 26]\r"
     ]
    },
    {
     "name": "stdout",
     "output_type": "stream",
     "text": [
      "[2023-12-15 14:06:07,483: 109: us_used_cars_ml_pipeline_logger: INFO: common:  json file saved at: us_used_cars_ml_pipeline/constants/label_encodings/is_new.json]\n"
     ]
    },
    {
     "name": "stderr",
     "output_type": "stream",
     "text": [
      "[Stage 43:========================================>               (19 + 7) / 26]\r"
     ]
    },
    {
     "name": "stdout",
     "output_type": "stream",
     "text": [
      "[2023-12-15 14:06:10,224: 109: us_used_cars_ml_pipeline_logger: INFO: common:  json file saved at: us_used_cars_ml_pipeline/constants/label_encodings/listing_color.json]\n"
     ]
    },
    {
     "name": "stderr",
     "output_type": "stream",
     "text": [
      "                                                                                \r"
     ]
    },
    {
     "name": "stdout",
     "output_type": "stream",
     "text": [
      "[2023-12-15 14:06:13,069: 109: us_used_cars_ml_pipeline_logger: INFO: common:  json file saved at: us_used_cars_ml_pipeline/constants/label_encodings/salvage.json]\n"
     ]
    },
    {
     "name": "stderr",
     "output_type": "stream",
     "text": [
      "[Stage 64:===============================>                       (15 + 11) / 26]\r"
     ]
    },
    {
     "name": "stdout",
     "output_type": "stream",
     "text": [
      "[2023-12-15 14:06:16,094: 109: us_used_cars_ml_pipeline_logger: INFO: common:  json file saved at: us_used_cars_ml_pipeline/constants/label_encodings/transmission.json]\n"
     ]
    },
    {
     "name": "stderr",
     "output_type": "stream",
     "text": [
      "[Stage 76:===============================================>        (22 + 4) / 26]\r"
     ]
    },
    {
     "name": "stdout",
     "output_type": "stream",
     "text": [
      "[2023-12-15 14:06:19,584: 109: us_used_cars_ml_pipeline_logger: INFO: common:  json file saved at: us_used_cars_ml_pipeline/constants/label_encodings/wheel_system.json]\n",
      "[2023-12-15 14:06:19,654: 659: us_used_cars_ml_pipeline_logger: INFO: data_cleaning:  6. Specified features have been encoded using Label Encoder]\n"
     ]
    },
    {
     "name": "stderr",
     "output_type": "stream",
     "text": [
      "23/12/15 14:06:19 WARN util.package: Truncated the string representation of a plan since it was too large. This behavior can be adjusted by setting 'spark.sql.debug.maxToStringFields'.\n",
      "                                                                                \r"
     ]
    },
    {
     "name": "stdout",
     "output_type": "stream",
     "text": [
      "[2023-12-15 14:06:31,499: 664: us_used_cars_ml_pipeline_logger: INFO: data_cleaning:  7. Features with nans, for which modeling is required, have been saved]\n",
      "[2023-12-15 14:06:31,500: 826: us_used_cars_ml_pipeline_logger: INFO: data_cleaning:  PART I. COMPLETED]\n"
     ]
    },
    {
     "name": "stderr",
     "output_type": "stream",
     "text": [
      "[Stage 101:====================================================>  (25 + 1) / 26]\r"
     ]
    },
    {
     "name": "stdout",
     "output_type": "stream",
     "text": [
      "[2023-12-15 14:06:56,027: 830: us_used_cars_ml_pipeline_logger: INFO: data_cleaning:  Data has been cached]\n",
      "[2023-12-15 14:06:56,028: 833: us_used_cars_ml_pipeline_logger: INFO: data_cleaning:  PART II. STARTING]\n",
      "[2023-12-15 14:06:56,034: 44: us_used_cars_ml_pipeline_logger: INFO: common:  yaml file: us_used_cars_ml_pipeline/constants/features_with_nans.yaml loaded successfully]\n",
      "[2023-12-15 14:06:56,038: 44: us_used_cars_ml_pipeline_logger: INFO: common:  yaml file: us_used_cars_ml_pipeline/constants/features_to_encode.yaml loaded successfully]\n",
      "[2023-12-15 14:06:56,041: 44: us_used_cars_ml_pipeline_logger: INFO: common:  yaml file: us_used_cars_ml_pipeline/constants/features_to_drop.yaml loaded successfully]\n",
      "[2023-12-15 14:06:56,042: 482: gensim.utils: INFO: utils:  loading KeyedVectors object from us_used_cars_ml_pipeline/models/glove/glove-twitter-25.bin]\n"
     ]
    },
    {
     "name": "stderr",
     "output_type": "stream",
     "text": [
      "\r",
      "                                                                                \r"
     ]
    },
    {
     "name": "stdout",
     "output_type": "stream",
     "text": [
      "[2023-12-15 14:06:56,647: 521: gensim.utils: INFO: utils:  loading vectors from us_used_cars_ml_pipeline/models/glove/glove-twitter-25.bin.vectors.npy with mmap=None]\n",
      "[2023-12-15 14:06:56,703: 448: gensim.utils: INFO: utils:  KeyedVectors lifecycle event {'fname': 'us_used_cars_ml_pipeline/models/glove/glove-twitter-25.bin', 'datetime': '2023-12-15T14:06:56.703005', 'gensim': '4.3.2', 'python': '3.8.8 | packaged by conda-forge | (default, Feb 20 2021, 16:22:27) \\n[GCC 9.3.0]', 'platform': 'Linux-4.18.0-240.15.1.el8_3.x86_64-x86_64-with-glibc2.10', 'event': 'loaded'}]\n"
     ]
    },
    {
     "data": {
      "application/vnd.jupyter.widget-view+json": {
       "model_id": "2f542294457841a3b22d0987f7e9f44d",
       "version_major": 2,
       "version_minor": 0
      },
      "text/plain": [
       "  0%|          | 0/38 [00:00<?, ?it/s]"
      ]
     },
     "metadata": {},
     "output_type": "display_data"
    },
    {
     "name": "stdout",
     "output_type": "stream",
     "text": [
      "[2023-12-15 14:06:58,793: 741: us_used_cars_ml_pipeline_logger: INFO: data_cleaning:  1. Columns to indicate nans presence have been created]\n",
      "[2023-12-15 14:06:58,794: 744: us_used_cars_ml_pipeline_logger: INFO: data_cleaning:  2. No need to merge data]\n"
     ]
    },
    {
     "name": "stderr",
     "output_type": "stream",
     "text": [
      "[Stage 103:============================================>          (21 + 5) / 26]\r"
     ]
    },
    {
     "name": "stdout",
     "output_type": "stream",
     "text": [
      "[2023-12-15 14:07:02,533: 749: us_used_cars_ml_pipeline_logger: INFO: data_cleaning:  3. Data has been cached]\n"
     ]
    },
    {
     "name": "stderr",
     "output_type": "stream",
     "text": [
      "\r",
      "                                                                                \r"
     ]
    },
    {
     "data": {
      "application/vnd.jupyter.widget-view+json": {
       "model_id": "f90f566256364c1fbc60b1a1118e885e",
       "version_major": 2,
       "version_minor": 0
      },
      "text/plain": [
       "  0%|          | 0/4 [00:00<?, ?it/s]"
      ]
     },
     "metadata": {},
     "output_type": "display_data"
    },
    {
     "name": "stdout",
     "output_type": "stream",
     "text": [
      "[2023-12-15 14:07:18,690: 754: us_used_cars_ml_pipeline_logger: INFO: data_cleaning:  4. Specified features have been encoded using glove-twitter-25 model]\n"
     ]
    },
    {
     "name": "stderr",
     "output_type": "stream",
     "text": [
      "                                                                                \r"
     ]
    },
    {
     "name": "stdout",
     "output_type": "stream",
     "text": [
      "[2023-12-15 14:09:23,401: 758: us_used_cars_ml_pipeline_logger: INFO: data_cleaning:  5. Data has been saved]\n",
      "[2023-12-15 14:09:23,550: 762: us_used_cars_ml_pipeline_logger: INFO: data_cleaning:  6. Data has been uncached]\n",
      "[2023-12-15 14:09:23,607: 835: us_used_cars_ml_pipeline_logger: INFO: data_cleaning:  PART II. COMPLETED]\n",
      "[2023-12-15 14:09:23,608: 838: us_used_cars_ml_pipeline_logger: INFO: data_cleaning:  PART III. STARTING]\n",
      "[2023-12-15 14:09:23,621: 44: us_used_cars_ml_pipeline_logger: INFO: common:  yaml file: us_used_cars_ml_pipeline/constants/features_with_nans.yaml loaded successfully]\n",
      "[2023-12-15 14:09:23,625: 44: us_used_cars_ml_pipeline_logger: INFO: common:  yaml file: us_used_cars_ml_pipeline/constants/features_to_encode.yaml loaded successfully]\n",
      "[2023-12-15 14:09:23,854: 795: us_used_cars_ml_pipeline_logger: INFO: data_cleaning:  1. Time-related features have been computed]\n"
     ]
    },
    {
     "data": {
      "application/vnd.jupyter.widget-view+json": {
       "model_id": "3bcd9274d4134e389e3e2689270e4f31",
       "version_major": 2,
       "version_minor": 0
      },
      "text/plain": [
       "  0%|          | 0/12 [00:00<?, ?it/s]"
      ]
     },
     "metadata": {},
     "output_type": "display_data"
    },
    {
     "name": "stdout",
     "output_type": "stream",
     "text": [
      "[2023-12-15 14:09:23,868: 132: us_used_cars_ml_pipeline_logger: INFO: common:  json file loaded successfully from: us_used_cars_ml_pipeline/constants/label_encodings/wheel_system.json]\n",
      "[2023-12-15 14:09:23,920: 805: us_used_cars_ml_pipeline_logger: INFO: data_cleaning:  2. Nans have been replaced with median value or top class]\n"
     ]
    },
    {
     "data": {
      "application/vnd.jupyter.widget-view+json": {
       "model_id": "59ae4acba7704015a6286156a57fc175",
       "version_major": 2,
       "version_minor": 0
      },
      "text/plain": [
       "  0%|          | 0/7 [00:00<?, ?it/s]"
      ]
     },
     "metadata": {},
     "output_type": "display_data"
    },
    {
     "name": "stderr",
     "output_type": "stream",
     "text": [
      "                                                                                \r"
     ]
    },
    {
     "name": "stdout",
     "output_type": "stream",
     "text": [
      "[2023-12-15 14:09:53,157: 453: us_used_cars_ml_pipeline_logger: INFO: data_cleaning:  1. Rare classes have been extracted]\n",
      "[2023-12-15 14:09:55,197: 66: us_used_cars_ml_pipeline_logger: INFO: common:  yaml file saved at: us_used_cars_ml_pipeline/constants/rare_classes.yaml]\n",
      "[2023-12-15 14:09:55,198: 457: us_used_cars_ml_pipeline_logger: INFO: data_cleaning:  2. Rare classes names have been saved]\n",
      "[2023-12-15 14:09:55,371: 461: us_used_cars_ml_pipeline_logger: INFO: data_cleaning:  3. Fold column has been created]\n"
     ]
    },
    {
     "data": {
      "application/vnd.jupyter.widget-view+json": {
       "model_id": "4e202a290a6e414d87a64745ceb8c023",
       "version_major": 2,
       "version_minor": 0
      },
      "text/plain": [
       "  0%|          | 0/7 [00:00<?, ?it/s]"
      ]
     },
     "metadata": {},
     "output_type": "display_data"
    },
    {
     "name": "stdout",
     "output_type": "stream",
     "text": [
      "[2023-12-15 14:09:56,740: 476: us_used_cars_ml_pipeline_logger: INFO: data_cleaning:  4. Rare classes have been replaced]\n"
     ]
    },
    {
     "name": "stderr",
     "output_type": "stream",
     "text": [
      "[Stage 230:====================================================>  (25 + 1) / 26]\r"
     ]
    },
    {
     "name": "stdout",
     "output_type": "stream",
     "text": [
      "[2023-12-15 14:10:00,052: 479: us_used_cars_ml_pipeline_logger: INFO: data_cleaning:  5. Temporary data has been cached]\n"
     ]
    },
    {
     "name": "stderr",
     "output_type": "stream",
     "text": [
      "\r",
      "                                                                                \r"
     ]
    },
    {
     "data": {
      "application/vnd.jupyter.widget-view+json": {
       "model_id": "2b4d954d00f44e6792fc9d0b0de26bf6",
       "version_major": 2,
       "version_minor": 0
      },
      "text/plain": [
       "  0%|          | 0/7 [00:00<?, ?it/s]"
      ]
     },
     "metadata": {},
     "output_type": "display_data"
    },
    {
     "name": "stdout",
     "output_type": "stream",
     "text": [
      "[2023-12-15 14:10:00,063: 18: us_used_cars_ml_pipeline_logger: INFO: encoders:  Starting K-Fold Mean Target Encoding for column 'engine_cylinders'...]\n"
     ]
    },
    {
     "name": "stderr",
     "output_type": "stream",
     "text": [
      "                                                                                \r"
     ]
    },
    {
     "name": "stdout",
     "output_type": "stream",
     "text": [
      "[2023-12-15 14:10:06,082: 18: us_used_cars_ml_pipeline_logger: INFO: encoders:  Starting K-Fold Mean Target Encoding for column 'exterior_color'...]\n"
     ]
    },
    {
     "name": "stderr",
     "output_type": "stream",
     "text": [
      "                                                                                \r"
     ]
    },
    {
     "name": "stdout",
     "output_type": "stream",
     "text": [
      "[2023-12-15 14:10:19,850: 18: us_used_cars_ml_pipeline_logger: INFO: encoders:  Starting K-Fold Mean Target Encoding for column 'interior_color'...]\n"
     ]
    },
    {
     "name": "stderr",
     "output_type": "stream",
     "text": [
      "                                                                                \r"
     ]
    },
    {
     "name": "stdout",
     "output_type": "stream",
     "text": [
      "[2023-12-15 14:10:32,555: 18: us_used_cars_ml_pipeline_logger: INFO: encoders:  Starting K-Fold Mean Target Encoding for column 'city'...]\n"
     ]
    },
    {
     "name": "stderr",
     "output_type": "stream",
     "text": [
      "                                                                                \r"
     ]
    },
    {
     "name": "stdout",
     "output_type": "stream",
     "text": [
      "[2023-12-15 14:10:45,200: 18: us_used_cars_ml_pipeline_logger: INFO: encoders:  Starting K-Fold Mean Target Encoding for column 'model_name'...]\n"
     ]
    },
    {
     "name": "stderr",
     "output_type": "stream",
     "text": [
      "                                                                                \r"
     ]
    },
    {
     "name": "stdout",
     "output_type": "stream",
     "text": [
      "[2023-12-15 14:10:56,447: 18: us_used_cars_ml_pipeline_logger: INFO: encoders:  Starting K-Fold Mean Target Encoding for column 'make_name'...]\n"
     ]
    },
    {
     "name": "stderr",
     "output_type": "stream",
     "text": [
      "                                                                                \r"
     ]
    },
    {
     "name": "stdout",
     "output_type": "stream",
     "text": [
      "[2023-12-15 14:11:00,636: 18: us_used_cars_ml_pipeline_logger: INFO: encoders:  Starting K-Fold Mean Target Encoding for column 'transmission_display'...]\n"
     ]
    },
    {
     "name": "stderr",
     "output_type": "stream",
     "text": [
      "                                                                                \r"
     ]
    },
    {
     "name": "stdout",
     "output_type": "stream",
     "text": [
      "[2023-12-15 14:11:05,414: 484: us_used_cars_ml_pipeline_logger: INFO: data_cleaning:  6. Encodings have been calculated and saved]\n",
      "[2023-12-15 14:11:05,426: 487: us_used_cars_ml_pipeline_logger: INFO: data_cleaning:  7. Temporary data has been uncached]\n"
     ]
    },
    {
     "data": {
      "application/vnd.jupyter.widget-view+json": {
       "model_id": "09b9f8fd3167426ba51bbe5e149867a3",
       "version_major": 2,
       "version_minor": 0
      },
      "text/plain": [
       "  0%|          | 0/7 [00:00<?, ?it/s]"
      ]
     },
     "metadata": {},
     "output_type": "display_data"
    },
    {
     "name": "stdout",
     "output_type": "stream",
     "text": [
      "[2023-12-15 14:11:05,511: 497: us_used_cars_ml_pipeline_logger: INFO: data_cleaning:  8.1. Rare classes have been replaced]\n",
      "[2023-12-15 14:11:05,641: 500: us_used_cars_ml_pipeline_logger: INFO: data_cleaning:  8.2. Encodings have been read]\n",
      "[2023-12-15 14:11:05,667: 503: us_used_cars_ml_pipeline_logger: INFO: data_cleaning:  8.3. engine_cylinders column has been encoded with encodings]\n",
      "[2023-12-15 14:11:05,707: 509: us_used_cars_ml_pipeline_logger: INFO: data_cleaning:  8.4. Average encodings have been calculated]\n"
     ]
    },
    {
     "name": "stderr",
     "output_type": "stream",
     "text": [
      "[Stage 277:==============================================>        (22 + 4) / 26]\r"
     ]
    },
    {
     "name": "stdout",
     "output_type": "stream",
     "text": [
      "[2023-12-15 14:11:08,029: 512: us_used_cars_ml_pipeline_logger: INFO: data_cleaning:  8.5. Average encodings have been saved]\n"
     ]
    },
    {
     "name": "stderr",
     "output_type": "stream",
     "text": [
      "\r",
      "                                                                                \r"
     ]
    },
    {
     "name": "stdout",
     "output_type": "stream",
     "text": [
      "[2023-12-15 14:11:08,417: 497: us_used_cars_ml_pipeline_logger: INFO: data_cleaning:  8.1. Rare classes have been replaced]\n",
      "[2023-12-15 14:11:08,609: 500: us_used_cars_ml_pipeline_logger: INFO: data_cleaning:  8.2. Encodings have been read]\n",
      "[2023-12-15 14:11:08,640: 503: us_used_cars_ml_pipeline_logger: INFO: data_cleaning:  8.3. exterior_color column has been encoded with encodings]\n",
      "[2023-12-15 14:11:08,687: 509: us_used_cars_ml_pipeline_logger: INFO: data_cleaning:  8.4. Average encodings have been calculated]\n"
     ]
    },
    {
     "name": "stderr",
     "output_type": "stream",
     "text": [
      "                                                                                \r"
     ]
    },
    {
     "name": "stdout",
     "output_type": "stream",
     "text": [
      "[2023-12-15 14:11:13,279: 512: us_used_cars_ml_pipeline_logger: INFO: data_cleaning:  8.5. Average encodings have been saved]\n",
      "[2023-12-15 14:11:13,918: 497: us_used_cars_ml_pipeline_logger: INFO: data_cleaning:  8.1. Rare classes have been replaced]\n",
      "[2023-12-15 14:11:14,125: 500: us_used_cars_ml_pipeline_logger: INFO: data_cleaning:  8.2. Encodings have been read]\n",
      "[2023-12-15 14:11:14,154: 503: us_used_cars_ml_pipeline_logger: INFO: data_cleaning:  8.3. interior_color column has been encoded with encodings]\n",
      "[2023-12-15 14:11:14,202: 509: us_used_cars_ml_pipeline_logger: INFO: data_cleaning:  8.4. Average encodings have been calculated]\n"
     ]
    },
    {
     "name": "stderr",
     "output_type": "stream",
     "text": [
      "                                                                                \r"
     ]
    },
    {
     "name": "stdout",
     "output_type": "stream",
     "text": [
      "[2023-12-15 14:11:21,949: 512: us_used_cars_ml_pipeline_logger: INFO: data_cleaning:  8.5. Average encodings have been saved]\n",
      "[2023-12-15 14:11:22,035: 497: us_used_cars_ml_pipeline_logger: INFO: data_cleaning:  8.1. Rare classes have been replaced]\n",
      "[2023-12-15 14:11:22,173: 500: us_used_cars_ml_pipeline_logger: INFO: data_cleaning:  8.2. Encodings have been read]\n",
      "[2023-12-15 14:11:22,255: 503: us_used_cars_ml_pipeline_logger: INFO: data_cleaning:  8.3. city column has been encoded with encodings]\n",
      "[2023-12-15 14:11:22,318: 509: us_used_cars_ml_pipeline_logger: INFO: data_cleaning:  8.4. Average encodings have been calculated]\n"
     ]
    },
    {
     "name": "stderr",
     "output_type": "stream",
     "text": [
      "                                                                                \r"
     ]
    },
    {
     "name": "stdout",
     "output_type": "stream",
     "text": [
      "[2023-12-15 14:11:32,491: 512: us_used_cars_ml_pipeline_logger: INFO: data_cleaning:  8.5. Average encodings have been saved]\n",
      "[2023-12-15 14:11:32,591: 497: us_used_cars_ml_pipeline_logger: INFO: data_cleaning:  8.1. Rare classes have been replaced]\n",
      "[2023-12-15 14:11:32,733: 500: us_used_cars_ml_pipeline_logger: INFO: data_cleaning:  8.2. Encodings have been read]\n",
      "[2023-12-15 14:11:32,763: 503: us_used_cars_ml_pipeline_logger: INFO: data_cleaning:  8.3. model_name column has been encoded with encodings]\n",
      "[2023-12-15 14:11:32,817: 509: us_used_cars_ml_pipeline_logger: INFO: data_cleaning:  8.4. Average encodings have been calculated]\n"
     ]
    },
    {
     "name": "stderr",
     "output_type": "stream",
     "text": [
      "                                                                                \r"
     ]
    },
    {
     "name": "stdout",
     "output_type": "stream",
     "text": [
      "[2023-12-15 14:11:43,296: 512: us_used_cars_ml_pipeline_logger: INFO: data_cleaning:  8.5. Average encodings have been saved]\n",
      "[2023-12-15 14:11:43,391: 497: us_used_cars_ml_pipeline_logger: INFO: data_cleaning:  8.1. Rare classes have been replaced]\n",
      "[2023-12-15 14:11:43,490: 500: us_used_cars_ml_pipeline_logger: INFO: data_cleaning:  8.2. Encodings have been read]\n",
      "[2023-12-15 14:11:43,523: 503: us_used_cars_ml_pipeline_logger: INFO: data_cleaning:  8.3. make_name column has been encoded with encodings]\n",
      "[2023-12-15 14:11:43,579: 509: us_used_cars_ml_pipeline_logger: INFO: data_cleaning:  8.4. Average encodings have been calculated]\n"
     ]
    },
    {
     "name": "stderr",
     "output_type": "stream",
     "text": [
      "[Stage 332:==================================================>    (24 + 2) / 26]\r"
     ]
    },
    {
     "name": "stdout",
     "output_type": "stream",
     "text": [
      "[2023-12-15 14:11:53,002: 512: us_used_cars_ml_pipeline_logger: INFO: data_cleaning:  8.5. Average encodings have been saved]\n"
     ]
    },
    {
     "name": "stderr",
     "output_type": "stream",
     "text": [
      "\r",
      "                                                                                \r"
     ]
    },
    {
     "name": "stdout",
     "output_type": "stream",
     "text": [
      "[2023-12-15 14:11:53,090: 497: us_used_cars_ml_pipeline_logger: INFO: data_cleaning:  8.1. Rare classes have been replaced]\n",
      "[2023-12-15 14:11:53,173: 500: us_used_cars_ml_pipeline_logger: INFO: data_cleaning:  8.2. Encodings have been read]\n",
      "[2023-12-15 14:11:53,206: 503: us_used_cars_ml_pipeline_logger: INFO: data_cleaning:  8.3. transmission_display column has been encoded with encodings]\n",
      "[2023-12-15 14:11:53,261: 509: us_used_cars_ml_pipeline_logger: INFO: data_cleaning:  8.4. Average encodings have been calculated]\n"
     ]
    },
    {
     "name": "stderr",
     "output_type": "stream",
     "text": [
      "[Stage 349:==================================================>    (24 + 2) / 26]\r"
     ]
    },
    {
     "name": "stdout",
     "output_type": "stream",
     "text": [
      "[2023-12-15 14:12:04,773: 512: us_used_cars_ml_pipeline_logger: INFO: data_cleaning:  8.5. Average encodings have been saved]\n",
      "[2023-12-15 14:12:04,802: 809: us_used_cars_ml_pipeline_logger: INFO: data_cleaning:  3. Specified features have been encoded using k-fold mean target encoder]\n"
     ]
    },
    {
     "name": "stderr",
     "output_type": "stream",
     "text": [
      "[Stage 365:==================================================>    (24 + 2) / 26]\r"
     ]
    },
    {
     "name": "stdout",
     "output_type": "stream",
     "text": [
      "[2023-12-15 14:12:19,105: 840: us_used_cars_ml_pipeline_logger: INFO: data_cleaning:  PART III. COMPLETED]\n",
      "CPU times: user 9.2 s, sys: 2.05 s, total: 11.3 s\n",
      "Wall time: 6min 38s\n"
     ]
    },
    {
     "name": "stderr",
     "output_type": "stream",
     "text": [
      "\r",
      "[Stage 365:====================================================>  (25 + 1) / 26]\r",
      "\r",
      "                                                                                \r"
     ]
    }
   ],
   "source": [
    "%%time\n",
    "data_cleaning.run_stage(spark, is_new_data=False)"
   ]
  },
  {
   "cell_type": "code",
   "execution_count": null,
   "id": "8697dd52",
   "metadata": {},
   "outputs": [],
   "source": []
  },
  {
   "cell_type": "code",
   "execution_count": null,
   "id": "3944f8db",
   "metadata": {},
   "outputs": [],
   "source": []
  }
 ],
 "metadata": {
  "kernelspec": {
   "display_name": "Python 3 (ipykernel)",
   "language": "python",
   "name": "python3"
  },
  "language_info": {
   "codemirror_mode": {
    "name": "ipython",
    "version": 3
   },
   "file_extension": ".py",
   "mimetype": "text/x-python",
   "name": "python",
   "nbconvert_exporter": "python",
   "pygments_lexer": "ipython3",
   "version": "3.8.8"
  }
 },
 "nbformat": 4,
 "nbformat_minor": 5
}
