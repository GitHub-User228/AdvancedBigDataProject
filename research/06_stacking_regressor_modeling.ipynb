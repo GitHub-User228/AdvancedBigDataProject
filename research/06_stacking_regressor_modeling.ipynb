{
 "cells": [
  {
   "cell_type": "code",
   "execution_count": 1,
   "id": "53fc82e6-9623-4545-8920-1bec331a1ffa",
   "metadata": {},
   "outputs": [],
   "source": [
    "import os\n",
    "\n",
    "import warnings\n",
    "warnings.filterwarnings(\"ignore\")"
   ]
  },
  {
   "cell_type": "code",
   "execution_count": 2,
   "id": "84de97c4-278c-4c93-80ba-6516e3a6ec6d",
   "metadata": {},
   "outputs": [
    {
     "data": {
      "text/plain": [
       "'/home/jovyan/nfs-home/scalable_ml_pipelines/src'"
      ]
     },
     "execution_count": 2,
     "metadata": {},
     "output_type": "execute_result"
    }
   ],
   "source": [
    "os.chdir(\"../src/\")\n",
    "%pwd"
   ]
  },
  {
   "cell_type": "code",
   "execution_count": 3,
   "id": "b5d6073b",
   "metadata": {},
   "outputs": [],
   "source": [
    "import socket\n",
    "\n",
    "LOCAL_IP = socket.gethostbyname(socket.gethostname())"
   ]
  },
  {
   "cell_type": "code",
   "execution_count": 4,
   "id": "cf1eb1bb",
   "metadata": {},
   "outputs": [],
   "source": [
    "name_space = \"eabraham-373705\"\n",
    "\n",
    "# Master node\n",
    "kubernetes_master_url = \"k8s://https://10.32.7.103:6443\"\n",
    "\n",
    "# Resource settings\n",
    "driver_cores = \"8\"\n",
    "executor_cores = \"8\"\n",
    "driver_memory = \"30g\"\n",
    "executor_memory = \"30g\"\n",
    "executor_memory_overhead = \"2g\"\n",
    "\n",
    "# These are the limits\n",
    "cpu_limit = \"3\"  # 12 cores\n",
    "memory_limit = \"32g\"  # Upto 32 GB\n",
    "executor_limit = \"8\""
   ]
  },
  {
   "cell_type": "code",
   "execution_count": 5,
   "id": "d96ca5b5-de35-4713-911e-80a946f896db",
   "metadata": {
    "scrolled": true
   },
   "outputs": [
    {
     "name": "stderr",
     "output_type": "stream",
     "text": [
      "WARNING: An illegal reflective access operation has occurred\n",
      "WARNING: Illegal reflective access by org.apache.spark.unsafe.Platform (file:/usr/local/spark-3.1.1-bin-hadoop3.2/jars/spark-unsafe_2.12-3.1.1.jar) to constructor java.nio.DirectByteBuffer(long,int)\n",
      "WARNING: Please consider reporting this to the maintainers of org.apache.spark.unsafe.Platform\n",
      "WARNING: Use --illegal-access=warn to enable warnings of further illegal reflective access operations\n",
      "WARNING: All illegal access operations will be denied in a future release\n",
      "23/12/18 18:35:26 WARN util.NativeCodeLoader: Unable to load native-hadoop library for your platform... using builtin-java classes where applicable\n",
      "Setting default log level to \"WARN\".\n",
      "To adjust logging level use sc.setLogLevel(newLevel). For SparkR, use setLogLevel(newLevel).\n",
      "23/12/18 18:35:26 WARN spark.SparkConf: Note that spark.local.dir will be overridden by the value set by the cluster manager (via SPARK_LOCAL_DIRS in mesos/standalone/kubernetes and LOCAL_DIRS in YARN).\n"
     ]
    }
   ],
   "source": [
    "from pyspark.sql import SparkSession\n",
    "\n",
    "APP_NAME = 'scalables_executor'\n",
    "\n",
    "\n",
    "spark = SparkSession\\\n",
    "    .builder\\\n",
    "    .appName(APP_NAME)\\\n",
    "    .master(kubernetes_master_url)\\\n",
    "    .config(\"spark.driver.host\", LOCAL_IP)\\\n",
    "    .config(\"spark.driver.bindAddress\", \"0.0.0.0\")\\\n",
    "    .config(\"spark.executor.instances\", \"2\")\\\n",
    "    .config(\"spark.executor.cores\", executor_cores)\\\n",
    "    .config(\"spark.executor.memory\", executor_memory)\\\n",
    "    .config(\"spark.memory.fraction\", \"0.8\")\\\n",
    "    .config(\"spark.memory.storageFraction\", \"0.2\")\\\n",
    "    .config(\"spark.kubernetes.executor.limit.cores\", executor_limit)\\\n",
    "    .config(\"spark.kubernetes.namespace\", name_space)\\\n",
    "    .config(\"spark.kubernetes.authenticate.driver.serviceAccountName\", \"spark\")\\\n",
    "    .config(\"spark.kubernetes.driver.label.appname\", APP_NAME)\\\n",
    "    .config(\"spark.kubernetes.executor.label.appname\", APP_NAME)\\\n",
    "    .config(\"spark.kubernetes.executor.deleteOnTermination\", \"false\") \\\n",
    "    .config(\"spark.kubernetes.container.image.pullPolicy\", \"Always\") \\\n",
    "    .config(\"spark.kubernetes.container.image\", \"node03.st:5000/pyspark-hdfs-jupyter:eabraham-373705-v4-executor\")\\\n",
    "    .config(\"spark.local.dir\", \"/tmp/spark\")\\\n",
    "    .config(\"spark.kubernetes.driver.volumes.emptyDir.spark-local-dir-tmp-spark.mount.path\", \"/tmp/spark\")\\\n",
    "    .config(\"spark.kubernetes.driver.volumes.emptyDir.spark-local-dir-tmp-spark.mount.readOnly\", \"false\")\\\n",
    "    .config(\"spark.kubernetes.executor.volumes.emptyDir.spark-local-dir-tmp-spark.mount.path\", \"/tmp/spark\")\\\n",
    "    .config(\"spark.kubernetes.executor.volumes.emptyDir.spark-local-dir-tmp-spark.mount.readOnly\", \"false\")\\\n",
    "    .getOrCreate()\n"
   ]
  },
  {
   "cell_type": "code",
   "execution_count": 6,
   "id": "d9a9b940",
   "metadata": {},
   "outputs": [
    {
     "data": {
      "text/html": [
       "\n",
       "            <div>\n",
       "                <p><b>SparkSession - in-memory</b></p>\n",
       "                \n",
       "        <div>\n",
       "            <p><b>SparkContext</b></p>\n",
       "\n",
       "            <p><a href=\"http://10.128.112.52:4040\">Spark UI</a></p>\n",
       "\n",
       "            <dl>\n",
       "              <dt>Version</dt>\n",
       "                <dd><code>v3.1.1</code></dd>\n",
       "              <dt>Master</dt>\n",
       "                <dd><code>k8s://https://10.32.7.103:6443</code></dd>\n",
       "              <dt>AppName</dt>\n",
       "                <dd><code>scalables_executor</code></dd>\n",
       "            </dl>\n",
       "        </div>\n",
       "        \n",
       "            </div>\n",
       "        "
      ],
      "text/plain": [
       "<pyspark.sql.session.SparkSession at 0x7f76f06e7ac0>"
      ]
     },
     "execution_count": 6,
     "metadata": {},
     "output_type": "execute_result"
    }
   ],
   "source": [
    "spark"
   ]
  },
  {
   "cell_type": "code",
   "execution_count": 7,
   "id": "0fd5ed23-5b57-40cb-af5e-ac5084da6e94",
   "metadata": {},
   "outputs": [
    {
     "name": "stdout",
     "output_type": "stream",
     "text": [
      "[2023-12-18 18:35:34,108: 145: numexpr.utils: INFO: utils:  Note: NumExpr detected 16 cores but \"NUMEXPR_MAX_THREADS\" not set, so enforcing safe limit of 8.]\n",
      "[2023-12-18 18:35:34,109: 157: numexpr.utils: INFO: utils:  NumExpr defaulting to 8 threads.]\n",
      "[2023-12-18 18:35:34,759: 44: us_used_cars_ml_pipeline_logger: INFO: common:  yaml file: us_used_cars_ml_pipeline/config/config.yaml loaded successfully]\n",
      "[2023-12-18 18:35:34,763: 44: us_used_cars_ml_pipeline_logger: INFO: common:  yaml file: us_used_cars_ml_pipeline/params.yaml loaded successfully]\n",
      "[2023-12-18 18:35:34,766: 44: us_used_cars_ml_pipeline_logger: INFO: common:  yaml file: us_used_cars_ml_pipeline/schema.yaml loaded successfully]\n"
     ]
    }
   ],
   "source": [
    "from us_used_cars_ml_pipeline.config.configuration import ConfigurationManager\n",
    "from us_used_cars_ml_pipeline.components.stacking_regressor_modeling import StackingRegressorModeling\n",
    "\n",
    "config_manager = ConfigurationManager()\n",
    "stacking_regressor_modeling_config = config_manager.get_stacking_regressor_modeling_config()\n",
    "\n",
    "stacking_regressor_modeling = StackingRegressorModeling(stacking_regressor_modeling_config)"
   ]
  },
  {
   "cell_type": "code",
   "execution_count": 8,
   "id": "851ab6ea",
   "metadata": {},
   "outputs": [
    {
     "data": {
      "text/plain": [
       "StackingRegressorModelingConfig(path_to_prepared_data='hdfs:///home/eabraham-373705/data/prepared/', path_to_importances='us_used_cars_ml_pipeline/tests/importances/', path_to_parameters_grid='us_used_cars_ml_pipeline/constants/grid_search/', path_to_best_params='us_used_cars_ml_pipeline/tests/models_tuning/best_params/CVTuner/', path_to_predictions='hdfs:///home/eabraham-373705/data/predictions', path_to_stacking_models='hdfs:///home/eabraham-373705/models/stacking_models', n_folds=5, seed=42, base_models_names=BoxList(['LinearRegression', 'RandomForestRegressor', 'GBTRegressor']), n_feats=ConfigBox({'LinearRegression': 70, 'RandomForestRegressor': 80, 'GBTRegressor': 70}), meta_model_name='LinearRegression', meta_model_params=ConfigBox({'labelCol': 'price', 'predictionCol': 'prediction', 'featuresCol': 'first_level_predictions', 'maxIter': 100, 'regParam': 1, 'elasticNetParam': 0.5}), tuner='CVTuner', tuner_config=ConfigBox({'metric': 'r2', 'seed': 42, 'n_folds': 5, 'path_to_parameters_grid': 'us_used_cars_ml_pipeline/constants/grid_search/meta_model/', 'path_to_scores': 'us_used_cars_ml_pipeline/tests/meta_model_tuning/scores/', 'path_to_best_params': 'us_used_cars_ml_pipeline/tests/meta_model_tuning/best_params/'}), use_best_params=1)"
      ]
     },
     "execution_count": 8,
     "metadata": {},
     "output_type": "execute_result"
    }
   ],
   "source": [
    "stacking_regressor_modeling_config"
   ]
  },
  {
   "cell_type": "code",
   "execution_count": 9,
   "id": "33c49d96",
   "metadata": {
    "scrolled": false
   },
   "outputs": [
    {
     "name": "stdout",
     "output_type": "stream",
     "text": [
      "[2023-12-17 16:13:02,770: 44: us_used_cars_ml_pipeline_logger: INFO: common:  yaml file: us_used_cars_ml_pipeline/constants/grid_search/LinearRegression.yaml loaded successfully]\n",
      "[2023-12-17 16:13:02,774: 44: us_used_cars_ml_pipeline_logger: INFO: common:  yaml file: us_used_cars_ml_pipeline/tests/models_tuning/best_params/CVTuner/LinearRegression.yaml loaded successfully]\n",
      "[2023-12-17 16:13:02,779: 44: us_used_cars_ml_pipeline_logger: INFO: common:  yaml file: us_used_cars_ml_pipeline/constants/grid_search/RandomForestRegressor.yaml loaded successfully]\n",
      "[2023-12-17 16:13:02,783: 44: us_used_cars_ml_pipeline_logger: INFO: common:  yaml file: us_used_cars_ml_pipeline/tests/models_tuning/best_params/CVTuner/RandomForestRegressor.yaml loaded successfully]\n",
      "[2023-12-17 16:13:02,789: 44: us_used_cars_ml_pipeline_logger: INFO: common:  yaml file: us_used_cars_ml_pipeline/constants/grid_search/GBTRegressor.yaml loaded successfully]\n",
      "[2023-12-17 16:13:02,793: 44: us_used_cars_ml_pipeline_logger: INFO: common:  yaml file: us_used_cars_ml_pipeline/tests/models_tuning/best_params/CVTuner/GBTRegressor.yaml loaded successfully]\n",
      "[2023-12-17 16:13:02,794: 138: us_used_cars_ml_pipeline_logger: INFO: stacking_regressor_modeling:  Best sets of hyperparameters have been loaded]\n"
     ]
    },
    {
     "name": "stderr",
     "output_type": "stream",
     "text": [
      "                                                                                \r"
     ]
    },
    {
     "name": "stdout",
     "output_type": "stream",
     "text": [
      "[2023-12-17 16:13:06,881: 142: us_used_cars_ml_pipeline_logger: INFO: stacking_regressor_modeling:  Prepared data has been loaded]\n",
      "[2023-12-17 16:13:07,225: 146: us_used_cars_ml_pipeline_logger: INFO: stacking_regressor_modeling:  Fold column has been created]\n",
      "[2023-12-17 16:13:07,226: 149: us_used_cars_ml_pipeline_logger: INFO: stacking_regressor_modeling:  PART I. STARTING]\n"
     ]
    },
    {
     "data": {
      "application/vnd.jupyter.widget-view+json": {
       "model_id": "4a78a7313c8348ed831d6bc760e6e679",
       "version_major": 2,
       "version_minor": 0
      },
      "text/plain": [
       "Training base models:   0%|          | 0/3 [00:00<?, ?it/s]"
      ]
     },
     "metadata": {},
     "output_type": "display_data"
    },
    {
     "name": "stdout",
     "output_type": "stream",
     "text": [
      "[2023-12-17 16:13:07,286: 44: us_used_cars_ml_pipeline_logger: INFO: common:  yaml file: us_used_cars_ml_pipeline/tests/importances/LinearRegression.yaml loaded successfully]\n"
     ]
    },
    {
     "name": "stderr",
     "output_type": "stream",
     "text": [
      "23/12/17 16:13:08 WARN util.package: Truncated the string representation of a plan since it was too large. This behavior can be adjusted by setting 'spark.sql.debug.maxToStringFields'.\n",
      "                                                                                \r"
     ]
    },
    {
     "data": {
      "application/vnd.jupyter.widget-view+json": {
       "model_id": "42fedf8552a64c2d846c9dd4af4d4e76",
       "version_major": 2,
       "version_minor": 0
      },
      "text/plain": [
       "Training LinearRegression models:   0%|          | 0/5 [00:00<?, ?it/s]"
      ]
     },
     "metadata": {},
     "output_type": "display_data"
    },
    {
     "name": "stderr",
     "output_type": "stream",
     "text": [
      "23/12/17 16:13:23 WARN netlib.BLAS: Failed to load implementation from: com.github.fommil.netlib.NativeSystemBLAS\n",
      "23/12/17 16:13:23 WARN netlib.BLAS: Failed to load implementation from: com.github.fommil.netlib.NativeRefBLAS\n",
      "                                                                                \r"
     ]
    },
    {
     "name": "stdout",
     "output_type": "stream",
     "text": [
      "[2023-12-17 16:13:33,388: 44: us_used_cars_ml_pipeline_logger: INFO: common:  yaml file: us_used_cars_ml_pipeline/tests/importances/RandomForestRegressor.yaml loaded successfully]\n"
     ]
    },
    {
     "name": "stderr",
     "output_type": "stream",
     "text": [
      "                                                                                \r"
     ]
    },
    {
     "data": {
      "application/vnd.jupyter.widget-view+json": {
       "model_id": "9a8ef0543c1047d9babe4a49695d1da6",
       "version_major": 2,
       "version_minor": 0
      },
      "text/plain": [
       "Training RandomForestRegressor models:   0%|          | 0/5 [00:00<?, ?it/s]"
      ]
     },
     "metadata": {},
     "output_type": "display_data"
    },
    {
     "name": "stderr",
     "output_type": "stream",
     "text": [
      "                                                                                \r"
     ]
    },
    {
     "name": "stdout",
     "output_type": "stream",
     "text": [
      "[2023-12-17 16:14:13,849: 44: us_used_cars_ml_pipeline_logger: INFO: common:  yaml file: us_used_cars_ml_pipeline/tests/importances/GBTRegressor.yaml loaded successfully]\n"
     ]
    },
    {
     "name": "stderr",
     "output_type": "stream",
     "text": [
      "                                                                                \r"
     ]
    },
    {
     "data": {
      "application/vnd.jupyter.widget-view+json": {
       "model_id": "c621bbe77ee545149c90f1118e2c4106",
       "version_major": 2,
       "version_minor": 0
      },
      "text/plain": [
       "Training GBTRegressor models:   0%|          | 0/5 [00:00<?, ?it/s]"
      ]
     },
     "metadata": {},
     "output_type": "display_data"
    },
    {
     "name": "stderr",
     "output_type": "stream",
     "text": [
      "                                                                                \r"
     ]
    },
    {
     "name": "stdout",
     "output_type": "stream",
     "text": [
      "[2023-12-17 16:15:45,956: 151: us_used_cars_ml_pipeline_logger: INFO: stacking_regressor_modeling:  PART I. COMPLETED]\n",
      "[2023-12-17 16:15:45,961: 154: us_used_cars_ml_pipeline_logger: INFO: stacking_regressor_modeling:  PART II. STARTING]\n"
     ]
    },
    {
     "data": {
      "application/vnd.jupyter.widget-view+json": {
       "model_id": "cf46957ff34d4e0a88b56a86e389efd5",
       "version_major": 2,
       "version_minor": 0
      },
      "text/plain": [
       "Predicting using base models:   0%|          | 0/3 [00:00<?, ?it/s]"
      ]
     },
     "metadata": {},
     "output_type": "display_data"
    },
    {
     "name": "stdout",
     "output_type": "stream",
     "text": [
      "[2023-12-17 16:15:45,997: 44: us_used_cars_ml_pipeline_logger: INFO: common:  yaml file: us_used_cars_ml_pipeline/tests/importances/LinearRegression.yaml loaded successfully]\n"
     ]
    },
    {
     "name": "stderr",
     "output_type": "stream",
     "text": [
      "                                                                                \r"
     ]
    },
    {
     "data": {
      "application/vnd.jupyter.widget-view+json": {
       "model_id": "f7e60c371faf48b3853c452f220c16de",
       "version_major": 2,
       "version_minor": 0
      },
      "text/plain": [
       "LinearRegression models:   0%|          | 0/5 [00:00<?, ?it/s]"
      ]
     },
     "metadata": {},
     "output_type": "display_data"
    },
    {
     "name": "stderr",
     "output_type": "stream",
     "text": [
      "[Stage 744:================================================>      (14 + 2) / 16]\r"
     ]
    },
    {
     "name": "stdout",
     "output_type": "stream",
     "text": [
      "[2023-12-17 16:15:55,071: 44: us_used_cars_ml_pipeline_logger: INFO: common:  yaml file: us_used_cars_ml_pipeline/tests/importances/RandomForestRegressor.yaml loaded successfully]\n"
     ]
    },
    {
     "name": "stderr",
     "output_type": "stream",
     "text": [
      "                                                                                \r"
     ]
    },
    {
     "data": {
      "application/vnd.jupyter.widget-view+json": {
       "model_id": "5756c5c5ef854fd6924adb4a786be9ff",
       "version_major": 2,
       "version_minor": 0
      },
      "text/plain": [
       "RandomForestRegressor models:   0%|          | 0/5 [00:00<?, ?it/s]"
      ]
     },
     "metadata": {},
     "output_type": "display_data"
    },
    {
     "name": "stderr",
     "output_type": "stream",
     "text": [
      "                                                                                \r"
     ]
    },
    {
     "name": "stdout",
     "output_type": "stream",
     "text": [
      "[2023-12-17 16:16:11,016: 44: us_used_cars_ml_pipeline_logger: INFO: common:  yaml file: us_used_cars_ml_pipeline/tests/importances/GBTRegressor.yaml loaded successfully]\n"
     ]
    },
    {
     "name": "stderr",
     "output_type": "stream",
     "text": [
      "23/12/17 16:16:11 WARN execution.CacheManager: Asked to cache already cached data.\n"
     ]
    },
    {
     "data": {
      "application/vnd.jupyter.widget-view+json": {
       "model_id": "5c05195a0fae4e2fade8771a264a42dd",
       "version_major": 2,
       "version_minor": 0
      },
      "text/plain": [
       "GBTRegressor models:   0%|          | 0/5 [00:00<?, ?it/s]"
      ]
     },
     "metadata": {},
     "output_type": "display_data"
    },
    {
     "name": "stderr",
     "output_type": "stream",
     "text": [
      "[Stage 860:==================================>                    (10 + 6) / 16]\r"
     ]
    },
    {
     "name": "stdout",
     "output_type": "stream",
     "text": [
      "[2023-12-17 16:16:16,636: 156: us_used_cars_ml_pipeline_logger: INFO: stacking_regressor_modeling:  PART II. COMPLETED]\n",
      "[2023-12-17 16:16:16,637: 159: us_used_cars_ml_pipeline_logger: INFO: stacking_regressor_modeling:  PART III. STARTING]\n"
     ]
    },
    {
     "name": "stderr",
     "output_type": "stream",
     "text": [
      "\r",
      "                                                                                \r"
     ]
    },
    {
     "data": {
      "application/vnd.jupyter.widget-view+json": {
       "model_id": "189d5011de5d425c82dab43db76cd657",
       "version_major": 2,
       "version_minor": 0
      },
      "text/plain": [
       "  0%|          | 0/3 [00:00<?, ?it/s]"
      ]
     },
     "metadata": {},
     "output_type": "display_data"
    },
    {
     "name": "stderr",
     "output_type": "stream",
     "text": [
      "                                                                                \r"
     ]
    },
    {
     "name": "stdout",
     "output_type": "stream",
     "text": [
      "[2023-12-17 16:16:21,790: 161: us_used_cars_ml_pipeline_logger: INFO: stacking_regressor_modeling:  PART III. COMPLETED]\n",
      "[2023-12-17 16:16:21,792: 164: us_used_cars_ml_pipeline_logger: INFO: stacking_regressor_modeling:  PART IV. STARTING]\n"
     ]
    },
    {
     "data": {
      "application/vnd.jupyter.widget-view+json": {
       "model_id": "5f9898b6fbd446f687c94153ac42f5c2",
       "version_major": 2,
       "version_minor": 0
      },
      "text/plain": [
       "Training base models:   0%|          | 0/3 [00:00<?, ?it/s]"
      ]
     },
     "metadata": {},
     "output_type": "display_data"
    },
    {
     "name": "stdout",
     "output_type": "stream",
     "text": [
      "[2023-12-17 16:16:21,827: 44: us_used_cars_ml_pipeline_logger: INFO: common:  yaml file: us_used_cars_ml_pipeline/tests/importances/LinearRegression.yaml loaded successfully]\n"
     ]
    },
    {
     "name": "stderr",
     "output_type": "stream",
     "text": [
      "                                                                                \r"
     ]
    },
    {
     "name": "stdout",
     "output_type": "stream",
     "text": [
      "[2023-12-17 16:16:28,773: 44: us_used_cars_ml_pipeline_logger: INFO: common:  yaml file: us_used_cars_ml_pipeline/tests/importances/RandomForestRegressor.yaml loaded successfully]\n"
     ]
    },
    {
     "name": "stderr",
     "output_type": "stream",
     "text": [
      "                                                                                \r"
     ]
    },
    {
     "name": "stdout",
     "output_type": "stream",
     "text": [
      "[2023-12-17 16:16:42,933: 44: us_used_cars_ml_pipeline_logger: INFO: common:  yaml file: us_used_cars_ml_pipeline/tests/importances/GBTRegressor.yaml loaded successfully]\n"
     ]
    },
    {
     "name": "stderr",
     "output_type": "stream",
     "text": [
      "23/12/17 16:16:43 WARN execution.CacheManager: Asked to cache already cached data.\n",
      "                                                                                \r"
     ]
    },
    {
     "name": "stdout",
     "output_type": "stream",
     "text": [
      "[2023-12-17 16:17:01,826: 166: us_used_cars_ml_pipeline_logger: INFO: stacking_regressor_modeling:  PART IV. COMPLETED]\n",
      "[2023-12-17 16:17:01,828: 169: us_used_cars_ml_pipeline_logger: INFO: stacking_regressor_modeling:  PART V. STARTING]\n"
     ]
    },
    {
     "data": {
      "application/vnd.jupyter.widget-view+json": {
       "model_id": "4685c986ad2d4163bc8bc6027f97b91a",
       "version_major": 2,
       "version_minor": 0
      },
      "text/plain": [
       "Training base models:   0%|          | 0/3 [00:00<?, ?it/s]"
      ]
     },
     "metadata": {},
     "output_type": "display_data"
    },
    {
     "name": "stdout",
     "output_type": "stream",
     "text": [
      "[2023-12-17 16:17:01,895: 44: us_used_cars_ml_pipeline_logger: INFO: common:  yaml file: us_used_cars_ml_pipeline/tests/importances/LinearRegression.yaml loaded successfully]\n"
     ]
    },
    {
     "name": "stderr",
     "output_type": "stream",
     "text": [
      "23/12/17 16:17:02 WARN execution.CacheManager: Asked to cache already cached data.\n",
      "[Stage 1023:===============================================>      (14 + 2) / 16]\r"
     ]
    },
    {
     "name": "stdout",
     "output_type": "stream",
     "text": [
      "[2023-12-17 16:17:06,559: 44: us_used_cars_ml_pipeline_logger: INFO: common:  yaml file: us_used_cars_ml_pipeline/tests/importances/RandomForestRegressor.yaml loaded successfully]\n"
     ]
    },
    {
     "name": "stderr",
     "output_type": "stream",
     "text": [
      "23/12/17 16:17:06 WARN execution.CacheManager: Asked to cache already cached data.\n",
      "                                                                                \r"
     ]
    },
    {
     "name": "stdout",
     "output_type": "stream",
     "text": [
      "[2023-12-17 16:17:12,291: 44: us_used_cars_ml_pipeline_logger: INFO: common:  yaml file: us_used_cars_ml_pipeline/tests/importances/GBTRegressor.yaml loaded successfully]\n"
     ]
    },
    {
     "name": "stderr",
     "output_type": "stream",
     "text": [
      "23/12/17 16:17:12 WARN execution.CacheManager: Asked to cache already cached data.\n",
      "                                                                                \r"
     ]
    },
    {
     "name": "stdout",
     "output_type": "stream",
     "text": [
      "[2023-12-17 16:17:17,210: 171: us_used_cars_ml_pipeline_logger: INFO: stacking_regressor_modeling:  PART V. COMPLETED]\n",
      "[2023-12-17 16:17:17,211: 174: us_used_cars_ml_pipeline_logger: INFO: stacking_regressor_modeling:  PART VI. STARTING]\n"
     ]
    },
    {
     "data": {
      "application/vnd.jupyter.widget-view+json": {
       "model_id": "285d25504f494fd48638fbda813ea064",
       "version_major": 2,
       "version_minor": 0
      },
      "text/plain": [
       "  0%|          | 0/3 [00:00<?, ?it/s]"
      ]
     },
     "metadata": {},
     "output_type": "display_data"
    },
    {
     "name": "stderr",
     "output_type": "stream",
     "text": [
      "                                                                                \r"
     ]
    },
    {
     "name": "stdout",
     "output_type": "stream",
     "text": [
      "[2023-12-17 16:17:22,075: 176: us_used_cars_ml_pipeline_logger: INFO: stacking_regressor_modeling:  PART VI. COMPLETED]\n",
      "[2023-12-17 16:17:22,247: 181: us_used_cars_ml_pipeline_logger: INFO: stacking_regressor_modeling:  Data with predictions has been loaded]\n",
      "[2023-12-17 16:17:22,248: 184: us_used_cars_ml_pipeline_logger: INFO: stacking_regressor_modeling:  PART VII. STARTING]\n",
      "[2023-12-17 16:17:22,279: 44: us_used_cars_ml_pipeline_logger: INFO: common:  yaml file: us_used_cars_ml_pipeline/constants/grid_search/meta_model/LinearRegression.yaml loaded successfully]\n"
     ]
    },
    {
     "data": {
      "application/vnd.jupyter.widget-view+json": {
       "model_id": "81b494e04edd431ebbdcf41b6f372e05",
       "version_major": 2,
       "version_minor": 0
      },
      "text/plain": [
       "  0%|          | 0/35 [00:00<?, ?it/s]"
      ]
     },
     "metadata": {},
     "output_type": "display_data"
    },
    {
     "name": "stderr",
     "output_type": "stream",
     "text": [
      "23/12/17 16:17:23 WARN netlib.LAPACK: Failed to load implementation from: com.github.fommil.netlib.NativeSystemLAPACK\n",
      "23/12/17 16:17:23 WARN netlib.LAPACK: Failed to load implementation from: com.github.fommil.netlib.NativeRefLAPACK\n",
      "[Stage 1066:===========================================>          (13 + 3) / 16]\r"
     ]
    },
    {
     "name": "stdout",
     "output_type": "stream",
     "text": [
      "[2023-12-17 16:17:26,536: 337: us_used_cars_ml_pipeline_logger: INFO: tuners:  {'elasticNetParam': 0, 'regParam': 0.0001} -> r2: 0.7783355600566575]\n"
     ]
    },
    {
     "name": "stderr",
     "output_type": "stream",
     "text": [
      "                                                                                \r"
     ]
    },
    {
     "name": "stdout",
     "output_type": "stream",
     "text": [
      "[2023-12-17 16:17:29,206: 337: us_used_cars_ml_pipeline_logger: INFO: tuners:  {'elasticNetParam': 0, 'regParam': 0.001} -> r2: 0.7783355624168347]\n"
     ]
    },
    {
     "name": "stderr",
     "output_type": "stream",
     "text": [
      "[Stage 1080:===>                                                  (1 + 15) / 16]\r"
     ]
    },
    {
     "name": "stdout",
     "output_type": "stream",
     "text": [
      "[2023-12-17 16:17:31,948: 337: us_used_cars_ml_pipeline_logger: INFO: tuners:  {'elasticNetParam': 0, 'regParam': 0.01} -> r2: 0.7783355860182011]\n"
     ]
    },
    {
     "name": "stderr",
     "output_type": "stream",
     "text": [
      "[Stage 1087:===============================================>      (14 + 2) / 16]\r"
     ]
    },
    {
     "name": "stdout",
     "output_type": "stream",
     "text": [
      "[2023-12-17 16:17:34,833: 337: us_used_cars_ml_pipeline_logger: INFO: tuners:  {'elasticNetParam': 0, 'regParam': 0.1} -> r2: 0.7783358219923369]\n"
     ]
    },
    {
     "name": "stderr",
     "output_type": "stream",
     "text": [
      "                                                                                \r"
     ]
    },
    {
     "name": "stdout",
     "output_type": "stream",
     "text": [
      "[2023-12-17 16:17:37,293: 337: us_used_cars_ml_pipeline_logger: INFO: tuners:  {'elasticNetParam': 0, 'regParam': 1} -> r2: 0.7783381777821271]\n"
     ]
    },
    {
     "name": "stderr",
     "output_type": "stream",
     "text": [
      "[Stage 1101:==================================================>   (15 + 1) / 16]\r"
     ]
    },
    {
     "name": "stdout",
     "output_type": "stream",
     "text": [
      "[2023-12-17 16:17:40,306: 337: us_used_cars_ml_pipeline_logger: INFO: tuners:  {'elasticNetParam': 0, 'regParam': 10} -> r2: 0.7783613422920752]\n"
     ]
    },
    {
     "name": "stderr",
     "output_type": "stream",
     "text": [
      "                                                                                \r"
     ]
    },
    {
     "name": "stdout",
     "output_type": "stream",
     "text": [
      "[2023-12-17 16:17:42,780: 337: us_used_cars_ml_pipeline_logger: INFO: tuners:  {'elasticNetParam': 0, 'regParam': 100} -> r2: 0.778555345974673]\n"
     ]
    },
    {
     "name": "stderr",
     "output_type": "stream",
     "text": [
      "[Stage 1115:================>                                     (5 + 11) / 16]\r"
     ]
    },
    {
     "name": "stdout",
     "output_type": "stream",
     "text": [
      "[2023-12-17 16:17:45,973: 337: us_used_cars_ml_pipeline_logger: INFO: tuners:  {'elasticNetParam': 0.25, 'regParam': 0.0001} -> r2: 0.7783355759632404]\n"
     ]
    },
    {
     "name": "stderr",
     "output_type": "stream",
     "text": [
      "                                                                                \r"
     ]
    },
    {
     "name": "stdout",
     "output_type": "stream",
     "text": [
      "[2023-12-17 16:17:48,879: 337: us_used_cars_ml_pipeline_logger: INFO: tuners:  {'elasticNetParam': 0.25, 'regParam': 0.001} -> r2: 0.7783355762136623]\n"
     ]
    },
    {
     "name": "stderr",
     "output_type": "stream",
     "text": [
      "                                                                                \r"
     ]
    },
    {
     "name": "stdout",
     "output_type": "stream",
     "text": [
      "[2023-12-17 16:17:51,367: 337: us_used_cars_ml_pipeline_logger: INFO: tuners:  {'elasticNetParam': 0.25, 'regParam': 0.01} -> r2: 0.7783355675041337]\n"
     ]
    },
    {
     "name": "stderr",
     "output_type": "stream",
     "text": [
      "[Stage 1136:==================================================>   (15 + 1) / 16]\r"
     ]
    },
    {
     "name": "stdout",
     "output_type": "stream",
     "text": [
      "[2023-12-17 16:17:54,716: 337: us_used_cars_ml_pipeline_logger: INFO: tuners:  {'elasticNetParam': 0.25, 'regParam': 0.1} -> r2: 0.778335625662456]\n"
     ]
    },
    {
     "name": "stderr",
     "output_type": "stream",
     "text": [
      "                                                                                \r"
     ]
    },
    {
     "name": "stdout",
     "output_type": "stream",
     "text": [
      "[2023-12-17 16:17:57,583: 337: us_used_cars_ml_pipeline_logger: INFO: tuners:  {'elasticNetParam': 0.25, 'regParam': 1} -> r2: 0.7783361579732738]\n"
     ]
    },
    {
     "name": "stderr",
     "output_type": "stream",
     "text": [
      "[Stage 1150:===========================>                           (8 + 8) / 16]\r"
     ]
    },
    {
     "name": "stdout",
     "output_type": "stream",
     "text": [
      "[2023-12-17 16:18:00,517: 337: us_used_cars_ml_pipeline_logger: INFO: tuners:  {'elasticNetParam': 0.25, 'regParam': 10} -> r2: 0.778341186264713]\n"
     ]
    },
    {
     "name": "stderr",
     "output_type": "stream",
     "text": [
      "                                                                                \r"
     ]
    },
    {
     "name": "stdout",
     "output_type": "stream",
     "text": [
      "[2023-12-17 16:18:03,049: 337: us_used_cars_ml_pipeline_logger: INFO: tuners:  {'elasticNetParam': 0.25, 'regParam': 100} -> r2: 0.7783383734512731]\n"
     ]
    },
    {
     "name": "stderr",
     "output_type": "stream",
     "text": [
      "[Stage 1164:==================================================>   (15 + 1) / 16]\r"
     ]
    },
    {
     "name": "stdout",
     "output_type": "stream",
     "text": [
      "[2023-12-17 16:18:06,264: 337: us_used_cars_ml_pipeline_logger: INFO: tuners:  {'elasticNetParam': 0.5, 'regParam': 0.0001} -> r2: 0.7783355611259637]\n"
     ]
    },
    {
     "name": "stderr",
     "output_type": "stream",
     "text": [
      "                                                                                \r"
     ]
    },
    {
     "name": "stdout",
     "output_type": "stream",
     "text": [
      "[2023-12-17 16:18:08,739: 337: us_used_cars_ml_pipeline_logger: INFO: tuners:  {'elasticNetParam': 0.5, 'regParam': 0.001} -> r2: 0.7783355745275726]\n"
     ]
    },
    {
     "name": "stderr",
     "output_type": "stream",
     "text": [
      "                                                                                \r"
     ]
    },
    {
     "name": "stdout",
     "output_type": "stream",
     "text": [
      "[2023-12-17 16:18:11,289: 337: us_used_cars_ml_pipeline_logger: INFO: tuners:  {'elasticNetParam': 0.5, 'regParam': 0.01} -> r2: 0.7783355475212124]\n"
     ]
    },
    {
     "name": "stderr",
     "output_type": "stream",
     "text": [
      "                                                                                \r"
     ]
    },
    {
     "name": "stdout",
     "output_type": "stream",
     "text": [
      "[2023-12-17 16:18:13,868: 337: us_used_cars_ml_pipeline_logger: INFO: tuners:  {'elasticNetParam': 0.5, 'regParam': 0.1} -> r2: 0.7783358665404304]\n"
     ]
    },
    {
     "name": "stderr",
     "output_type": "stream",
     "text": [
      "[Stage 1192:===============================================>      (14 + 2) / 16]\r"
     ]
    },
    {
     "name": "stdout",
     "output_type": "stream",
     "text": [
      "[2023-12-17 16:18:16,568: 337: us_used_cars_ml_pipeline_logger: INFO: tuners:  {'elasticNetParam': 0.5, 'regParam': 1} -> r2: 0.7783341755715355]\n"
     ]
    },
    {
     "name": "stderr",
     "output_type": "stream",
     "text": [
      "[Stage 1199:==================================================>   (15 + 1) / 16]\r"
     ]
    },
    {
     "name": "stdout",
     "output_type": "stream",
     "text": [
      "[2023-12-17 16:18:19,954: 337: us_used_cars_ml_pipeline_logger: INFO: tuners:  {'elasticNetParam': 0.5, 'regParam': 10} -> r2: 0.7783208666545118]\n"
     ]
    },
    {
     "name": "stderr",
     "output_type": "stream",
     "text": [
      "                                                                                \r"
     ]
    },
    {
     "name": "stdout",
     "output_type": "stream",
     "text": [
      "[2023-12-17 16:18:22,367: 337: us_used_cars_ml_pipeline_logger: INFO: tuners:  {'elasticNetParam': 0.5, 'regParam': 100} -> r2: 0.7781048761269813]\n"
     ]
    },
    {
     "name": "stderr",
     "output_type": "stream",
     "text": [
      "                                                                                \r"
     ]
    },
    {
     "name": "stdout",
     "output_type": "stream",
     "text": [
      "[2023-12-17 16:18:25,056: 337: us_used_cars_ml_pipeline_logger: INFO: tuners:  {'elasticNetParam': 0.75, 'regParam': 0.0001} -> r2: 0.7783355609261371]\n"
     ]
    },
    {
     "name": "stderr",
     "output_type": "stream",
     "text": [
      "[Stage 1220:===>                                                  (1 + 15) / 16]\r"
     ]
    },
    {
     "name": "stdout",
     "output_type": "stream",
     "text": [
      "[2023-12-17 16:18:27,928: 337: us_used_cars_ml_pipeline_logger: INFO: tuners:  {'elasticNetParam': 0.75, 'regParam': 0.001} -> r2: 0.7783355578909835]\n"
     ]
    },
    {
     "name": "stderr",
     "output_type": "stream",
     "text": [
      "                                                                                \r"
     ]
    },
    {
     "name": "stdout",
     "output_type": "stream",
     "text": [
      "[2023-12-17 16:18:31,397: 337: us_used_cars_ml_pipeline_logger: INFO: tuners:  {'elasticNetParam': 0.75, 'regParam': 0.01} -> r2: 0.7783355165791247]\n"
     ]
    },
    {
     "name": "stderr",
     "output_type": "stream",
     "text": [
      "[Stage 1234:========================================>             (12 + 4) / 16]\r"
     ]
    },
    {
     "name": "stdout",
     "output_type": "stream",
     "text": [
      "[2023-12-17 16:18:34,238: 337: us_used_cars_ml_pipeline_logger: INFO: tuners:  {'elasticNetParam': 0.75, 'regParam': 0.1} -> r2: 0.7783359666859345]\n"
     ]
    },
    {
     "name": "stderr",
     "output_type": "stream",
     "text": [
      "                                                                                \r"
     ]
    },
    {
     "name": "stdout",
     "output_type": "stream",
     "text": [
      "[2023-12-17 16:18:37,565: 337: us_used_cars_ml_pipeline_logger: INFO: tuners:  {'elasticNetParam': 0.75, 'regParam': 1} -> r2: 0.7783321714693108]\n"
     ]
    },
    {
     "name": "stderr",
     "output_type": "stream",
     "text": [
      "[Stage 1248:===>                                                  (1 + 15) / 16]\r"
     ]
    },
    {
     "name": "stdout",
     "output_type": "stream",
     "text": [
      "[2023-12-17 16:18:40,583: 337: us_used_cars_ml_pipeline_logger: INFO: tuners:  {'elasticNetParam': 0.75, 'regParam': 10} -> r2: 0.7783003796960505]\n"
     ]
    },
    {
     "name": "stderr",
     "output_type": "stream",
     "text": [
      "[Stage 1255:===========================>                           (8 + 8) / 16]\r"
     ]
    },
    {
     "name": "stdout",
     "output_type": "stream",
     "text": [
      "[2023-12-17 16:18:43,560: 337: us_used_cars_ml_pipeline_logger: INFO: tuners:  {'elasticNetParam': 0.75, 'regParam': 100} -> r2: 0.7778544740041459]\n"
     ]
    },
    {
     "name": "stderr",
     "output_type": "stream",
     "text": [
      "                                                                                \r"
     ]
    },
    {
     "name": "stdout",
     "output_type": "stream",
     "text": [
      "[2023-12-17 16:18:45,921: 337: us_used_cars_ml_pipeline_logger: INFO: tuners:  {'elasticNetParam': 1, 'regParam': 0.0001} -> r2: 0.7783355607263116]\n"
     ]
    },
    {
     "name": "stderr",
     "output_type": "stream",
     "text": [
      "                                                                                \r"
     ]
    },
    {
     "name": "stdout",
     "output_type": "stream",
     "text": [
      "[2023-12-17 16:18:48,763: 337: us_used_cars_ml_pipeline_logger: INFO: tuners:  {'elasticNetParam': 1, 'regParam': 0.001} -> r2: 0.7783355558927183]\n"
     ]
    },
    {
     "name": "stderr",
     "output_type": "stream",
     "text": [
      "                                                                                \r"
     ]
    },
    {
     "name": "stdout",
     "output_type": "stream",
     "text": [
      "[2023-12-17 16:18:51,710: 337: us_used_cars_ml_pipeline_logger: INFO: tuners:  {'elasticNetParam': 1, 'regParam': 0.01} -> r2: 0.7783354965886762]\n"
     ]
    },
    {
     "name": "stderr",
     "output_type": "stream",
     "text": [
      "                                                                                \r"
     ]
    },
    {
     "name": "stdout",
     "output_type": "stream",
     "text": [
      "[2023-12-17 16:18:54,161: 337: us_used_cars_ml_pipeline_logger: INFO: tuners:  {'elasticNetParam': 1, 'regParam': 0.1} -> r2: 0.7783350028681215]\n"
     ]
    },
    {
     "name": "stderr",
     "output_type": "stream",
     "text": [
      "                                                                                \r"
     ]
    },
    {
     "name": "stdout",
     "output_type": "stream",
     "text": [
      "[2023-12-17 16:18:56,993: 337: us_used_cars_ml_pipeline_logger: INFO: tuners:  {'elasticNetParam': 1, 'regParam': 1} -> r2: 0.7783301662123067]\n"
     ]
    },
    {
     "name": "stderr",
     "output_type": "stream",
     "text": [
      "[Stage 1297:===>                                                  (1 + 15) / 16]\r"
     ]
    },
    {
     "name": "stdout",
     "output_type": "stream",
     "text": [
      "[2023-12-17 16:18:59,849: 337: us_used_cars_ml_pipeline_logger: INFO: tuners:  {'elasticNetParam': 1, 'regParam': 10} -> r2: 0.7782797249467981]\n"
     ]
    },
    {
     "name": "stderr",
     "output_type": "stream",
     "text": [
      "                                                                                \r"
     ]
    },
    {
     "name": "stdout",
     "output_type": "stream",
     "text": [
      "[2023-12-17 16:19:02,826: 337: us_used_cars_ml_pipeline_logger: INFO: tuners:  {'elasticNetParam': 1, 'regParam': 100} -> r2: 0.7775867798578073]\n",
      "[2023-12-17 16:19:02,846: 66: us_used_cars_ml_pipeline_logger: INFO: common:  yaml file saved at: us_used_cars_ml_pipeline/tests/meta_model_tuning/scores/LinearRegression.yaml]\n",
      "[2023-12-17 16:19:02,847: 347: us_used_cars_ml_pipeline_logger: INFO: tuners:  Scores for LinearRegression model have been saved]\n",
      "[2023-12-17 16:19:02,851: 66: us_used_cars_ml_pipeline_logger: INFO: common:  yaml file saved at: us_used_cars_ml_pipeline/tests/meta_model_tuning/best_params/LinearRegression.yaml]\n",
      "[2023-12-17 16:19:02,852: 351: us_used_cars_ml_pipeline_logger: INFO: tuners:  Best set of parameters for LinearRegression model has been saved]\n",
      "[2023-12-17 16:19:02,853: 186: us_used_cars_ml_pipeline_logger: INFO: stacking_regressor_modeling:  PART VII. COMPLETED]\n",
      "[2023-12-17 16:19:02,854: 189: us_used_cars_ml_pipeline_logger: INFO: stacking_regressor_modeling:  PART VIII. STARTING]\n"
     ]
    },
    {
     "name": "stderr",
     "output_type": "stream",
     "text": [
      "[Stage 1314:===========================================>          (13 + 3) / 16]\r"
     ]
    },
    {
     "name": "stdout",
     "output_type": "stream",
     "text": [
      "[2023-12-17 16:19:07,332: 191: us_used_cars_ml_pipeline_logger: INFO: stacking_regressor_modeling:  PART VIII. COMPLETED]\n",
      "CPU times: user 2.35 s, sys: 776 ms, total: 3.12 s\n",
      "Wall time: 6min 4s\n"
     ]
    },
    {
     "name": "stderr",
     "output_type": "stream",
     "text": [
      "\r",
      "                                                                                \r"
     ]
    }
   ],
   "source": [
    "%%time\n",
    "stacking_regressor_modeling.run_stage(spark, is_new_data=False)"
   ]
  },
  {
   "cell_type": "code",
   "execution_count": null,
   "id": "58866152",
   "metadata": {},
   "outputs": [],
   "source": []
  }
 ],
 "metadata": {
  "kernelspec": {
   "display_name": "Python 3 (ipykernel)",
   "language": "python",
   "name": "python3"
  },
  "language_info": {
   "codemirror_mode": {
    "name": "ipython",
    "version": 3
   },
   "file_extension": ".py",
   "mimetype": "text/x-python",
   "name": "python",
   "nbconvert_exporter": "python",
   "pygments_lexer": "ipython3",
   "version": "3.8.8"
  }
 },
 "nbformat": 4,
 "nbformat_minor": 5
}
