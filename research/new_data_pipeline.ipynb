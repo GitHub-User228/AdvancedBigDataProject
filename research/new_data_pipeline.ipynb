{
 "cells": [
  {
   "cell_type": "code",
   "execution_count": 1,
   "id": "6cae054a",
   "metadata": {},
   "outputs": [],
   "source": [
    "import os\n",
    "\n",
    "import warnings\n",
    "warnings.filterwarnings(\"ignore\")"
   ]
  },
  {
   "cell_type": "code",
   "execution_count": 2,
   "id": "e8801e4e",
   "metadata": {},
   "outputs": [
    {
     "data": {
      "text/plain": [
       "'/home/jovyan/nfs-home/scalable_ml_pipelines/src'"
      ]
     },
     "execution_count": 2,
     "metadata": {},
     "output_type": "execute_result"
    }
   ],
   "source": [
    "os.chdir(\"../src/\")\n",
    "%pwd"
   ]
  },
  {
   "cell_type": "code",
   "execution_count": 3,
   "id": "0a826314",
   "metadata": {},
   "outputs": [],
   "source": [
    "import socket\n",
    "\n",
    "LOCAL_IP = socket.gethostbyname(socket.gethostname())"
   ]
  },
  {
   "cell_type": "code",
   "execution_count": 4,
   "id": "2d89f38e",
   "metadata": {},
   "outputs": [],
   "source": [
    "name_space = \"eabraham-373705\"\n",
    "\n",
    "# Master node\n",
    "kubernetes_master_url = \"k8s://https://10.32.7.103:6443\"\n",
    "\n",
    "# Resource settings\n",
    "driver_cores = \"6\"\n",
    "executor_cores = \"6\"\n",
    "driver_memory = \"22g\"\n",
    "executor_memory = \"22g\"\n",
    "executor_memory_overhead = \"2g\"\n",
    "\n",
    "# These are the limits\n",
    "cpu_limit = \"3\"  # 12 cores\n",
    "memory_limit = \"32g\"  # Upto 32 GB\n",
    "executor_limit = \"8\""
   ]
  },
  {
   "cell_type": "code",
   "execution_count": 5,
   "id": "f84c707c",
   "metadata": {},
   "outputs": [
    {
     "name": "stderr",
     "output_type": "stream",
     "text": [
      "WARNING: An illegal reflective access operation has occurred\n",
      "WARNING: Illegal reflective access by org.apache.spark.unsafe.Platform (file:/usr/local/spark-3.1.1-bin-hadoop3.2/jars/spark-unsafe_2.12-3.1.1.jar) to constructor java.nio.DirectByteBuffer(long,int)\n",
      "WARNING: Please consider reporting this to the maintainers of org.apache.spark.unsafe.Platform\n",
      "WARNING: Use --illegal-access=warn to enable warnings of further illegal reflective access operations\n",
      "WARNING: All illegal access operations will be denied in a future release\n",
      "23/12/29 09:09:08 WARN util.NativeCodeLoader: Unable to load native-hadoop library for your platform... using builtin-java classes where applicable\n",
      "Setting default log level to \"WARN\".\n",
      "To adjust logging level use sc.setLogLevel(newLevel). For SparkR, use setLogLevel(newLevel).\n",
      "23/12/29 09:09:08 WARN spark.SparkConf: Note that spark.local.dir will be overridden by the value set by the cluster manager (via SPARK_LOCAL_DIRS in mesos/standalone/kubernetes and LOCAL_DIRS in YARN).\n",
      "23/12/29 09:09:09 WARN util.Utils: Service 'SparkUI' could not bind on port 4040. Attempting port 4041.\n"
     ]
    }
   ],
   "source": [
    "from pyspark.sql import SparkSession\n",
    "\n",
    "APP_NAME = 'scalables_executor'\n",
    "\n",
    "\n",
    "spark = SparkSession\\\n",
    "    .builder\\\n",
    "    .appName(APP_NAME)\\\n",
    "    .master(kubernetes_master_url)\\\n",
    "    .config(\"spark.driver.host\", LOCAL_IP)\\\n",
    "    .config(\"spark.driver.bindAddress\", \"0.0.0.0\")\\\n",
    "    .config(\"spark.executor.instances\", \"2\")\\\n",
    "    .config(\"spark.executor.cores\", executor_cores)\\\n",
    "    .config(\"spark.executor.memory\", executor_memory)\\\n",
    "    .config(\"spark.memory.fraction\", \"0.8\")\\\n",
    "    .config(\"spark.memory.storageFraction\", \"0.2\")\\\n",
    "    .config(\"spark.kubernetes.executor.limit.cores\", executor_limit)\\\n",
    "    .config(\"spark.kubernetes.namespace\", name_space)\\\n",
    "    .config(\"spark.kubernetes.authenticate.driver.serviceAccountName\", \"spark\")\\\n",
    "    .config(\"spark.kubernetes.driver.label.appname\", APP_NAME)\\\n",
    "    .config(\"spark.kubernetes.executor.label.appname\", APP_NAME)\\\n",
    "    .config(\"spark.kubernetes.executor.deleteOnTermination\", \"false\") \\\n",
    "    .config(\"spark.kubernetes.container.image.pullPolicy\", \"Always\") \\\n",
    "    .config(\"spark.kubernetes.container.image\", \"node03.st:5000/pyspark-hdfs-jupyter:eabraham-373705-v4-executor\")\\\n",
    "    .config(\"spark.local.dir\", \"/tmp/spark\")\\\n",
    "    .config(\"spark.kubernetes.driver.volumes.emptyDir.spark-local-dir-tmp-spark.mount.path\", \"/tmp/spark\")\\\n",
    "    .config(\"spark.kubernetes.driver.volumes.emptyDir.spark-local-dir-tmp-spark.mount.readOnly\", \"false\")\\\n",
    "    .config(\"spark.kubernetes.executor.volumes.emptyDir.spark-local-dir-tmp-spark.mount.path\", \"/tmp/spark\")\\\n",
    "    .config(\"spark.kubernetes.executor.volumes.emptyDir.spark-local-dir-tmp-spark.mount.readOnly\", \"false\")\\\n",
    "    .getOrCreate()"
   ]
  },
  {
   "cell_type": "code",
   "execution_count": 6,
   "id": "82c1754a",
   "metadata": {},
   "outputs": [
    {
     "data": {
      "text/html": [
       "\n",
       "            <div>\n",
       "                <p><b>SparkSession - in-memory</b></p>\n",
       "                \n",
       "        <div>\n",
       "            <p><b>SparkContext</b></p>\n",
       "\n",
       "            <p><a href=\"http://10.128.112.52:4041\">Spark UI</a></p>\n",
       "\n",
       "            <dl>\n",
       "              <dt>Version</dt>\n",
       "                <dd><code>v3.1.1</code></dd>\n",
       "              <dt>Master</dt>\n",
       "                <dd><code>k8s://https://10.32.7.103:6443</code></dd>\n",
       "              <dt>AppName</dt>\n",
       "                <dd><code>scalables_executor</code></dd>\n",
       "            </dl>\n",
       "        </div>\n",
       "        \n",
       "            </div>\n",
       "        "
      ],
      "text/plain": [
       "<pyspark.sql.session.SparkSession at 0x7fd8ebd1f7c0>"
      ]
     },
     "execution_count": 6,
     "metadata": {},
     "output_type": "execute_result"
    }
   ],
   "source": [
    "spark"
   ]
  },
  {
   "cell_type": "code",
   "execution_count": 7,
   "id": "d7621823",
   "metadata": {},
   "outputs": [
    {
     "name": "stdout",
     "output_type": "stream",
     "text": [
      "[2023-12-29 09:09:16,886: 145: numexpr.utils: INFO: utils:  Note: NumExpr detected 16 cores but \"NUMEXPR_MAX_THREADS\" not set, so enforcing safe limit of 8.]\n",
      "[2023-12-29 09:09:16,888: 157: numexpr.utils: INFO: utils:  NumExpr defaulting to 8 threads.]\n"
     ]
    }
   ],
   "source": [
    "from us_used_cars_ml_pipeline.pipelines.new_data_pipeline import run"
   ]
  },
  {
   "cell_type": "code",
   "execution_count": 8,
   "id": "6422f58c",
   "metadata": {
    "scrolled": true
   },
   "outputs": [
    {
     "name": "stdout",
     "output_type": "stream",
     "text": [
      "[2023-12-29 09:09:17,735: 18: us_used_cars_ml_pipeline_logger: INFO: new_data_pipeline:  === STARTING PROCESSING NEW DATA ===]\n",
      "[2023-12-29 09:09:17,753: 44: us_used_cars_ml_pipeline_logger: INFO: common:  yaml file: us_used_cars_ml_pipeline/config/config.yaml loaded successfully]\n",
      "[2023-12-29 09:09:17,756: 44: us_used_cars_ml_pipeline_logger: INFO: common:  yaml file: us_used_cars_ml_pipeline/params.yaml loaded successfully]\n",
      "[2023-12-29 09:09:17,759: 44: us_used_cars_ml_pipeline_logger: INFO: common:  yaml file: us_used_cars_ml_pipeline/schema.yaml loaded successfully]\n",
      "[2023-12-29 09:09:17,761: 29: us_used_cars_ml_pipeline_logger: INFO: new_data_pipeline:  === I. COMPONENTS HAVE BEEN INITIALIZED ===]\n",
      "[2023-12-29 09:09:17,762: 36: us_used_cars_ml_pipeline_logger: INFO: new_data_pipeline:  === II. DATA CONVERSION STAGE HAS BEEN SKIPPED ===]\n"
     ]
    },
    {
     "name": "stderr",
     "output_type": "stream",
     "text": [
      "                                                                                \r"
     ]
    },
    {
     "name": "stdout",
     "output_type": "stream",
     "text": [
      "[2023-12-29 09:09:21,763: 848: us_used_cars_ml_pipeline_logger: INFO: data_cleaning:  Raw data has been read]\n",
      "[2023-12-29 09:09:22,402: 856: us_used_cars_ml_pipeline_logger: INFO: data_cleaning:  PART I. STARTING]\n",
      "[2023-12-29 09:09:22,415: 44: us_used_cars_ml_pipeline_logger: INFO: common:  yaml file: us_used_cars_ml_pipeline/constants/data_types.yaml loaded successfully]\n",
      "[2023-12-29 09:09:22,424: 44: us_used_cars_ml_pipeline_logger: INFO: common:  yaml file: us_used_cars_ml_pipeline/constants/features_with_nans.yaml loaded successfully]\n",
      "[2023-12-29 09:09:22,428: 44: us_used_cars_ml_pipeline_logger: INFO: common:  yaml file: us_used_cars_ml_pipeline/constants/popular_options.yaml loaded successfully]\n",
      "[2023-12-29 09:09:22,434: 44: us_used_cars_ml_pipeline_logger: INFO: common:  yaml file: us_used_cars_ml_pipeline/constants/features_to_encode.yaml loaded successfully]\n",
      "[2023-12-29 09:09:22,559: 644: us_used_cars_ml_pipeline_logger: INFO: data_cleaning:  1. Rows with nans in specified columns have been dropped]\n",
      "[2023-12-29 09:09:22,575: 649: us_used_cars_ml_pipeline_logger: INFO: data_cleaning:  2. Index column has been created]\n"
     ]
    },
    {
     "data": {
      "application/vnd.jupyter.widget-view+json": {
       "model_id": "0ef6ff1a4f4c4cbd8700e9103b8c9ce9",
       "version_major": 2,
       "version_minor": 0
      },
      "text/plain": [
       "  0%|          | 0/43 [00:00<?, ?it/s]"
      ]
     },
     "metadata": {},
     "output_type": "display_data"
    },
    {
     "name": "stdout",
     "output_type": "stream",
     "text": [
      "[2023-12-29 09:09:23,401: 669: us_used_cars_ml_pipeline_logger: INFO: data_cleaning:  3. Values in specified columns have been converted]\n",
      "[2023-12-29 09:09:23,593: 674: us_used_cars_ml_pipeline_logger: INFO: data_cleaning:  4. Features power and torque have been splitted]\n",
      "[2023-12-29 09:09:24,126: 678: us_used_cars_ml_pipeline_logger: INFO: data_cleaning:  5. Popular options features have been extracted]\n"
     ]
    },
    {
     "data": {
      "application/vnd.jupyter.widget-view+json": {
       "model_id": "0bf8cf961aa840cf8182f2ae43dba95e",
       "version_major": 2,
       "version_minor": 0
      },
      "text/plain": [
       "  0%|          | 0/11 [00:00<?, ?it/s]"
      ]
     },
     "metadata": {},
     "output_type": "display_data"
    },
    {
     "name": "stdout",
     "output_type": "stream",
     "text": [
      "[2023-12-29 09:09:24,140: 132: us_used_cars_ml_pipeline_logger: INFO: common:  json file loaded successfully from: us_used_cars_ml_pipeline/constants/label_encodings/body_type.json]\n",
      "[2023-12-29 09:09:24,277: 132: us_used_cars_ml_pipeline_logger: INFO: common:  json file loaded successfully from: us_used_cars_ml_pipeline/constants/label_encodings/fleet.json]\n",
      "[2023-12-29 09:09:24,364: 132: us_used_cars_ml_pipeline_logger: INFO: common:  json file loaded successfully from: us_used_cars_ml_pipeline/constants/label_encodings/frame_damaged.json]\n",
      "[2023-12-29 09:09:24,449: 132: us_used_cars_ml_pipeline_logger: INFO: common:  json file loaded successfully from: us_used_cars_ml_pipeline/constants/label_encodings/franchise_dealer.json]\n",
      "[2023-12-29 09:09:24,532: 132: us_used_cars_ml_pipeline_logger: INFO: common:  json file loaded successfully from: us_used_cars_ml_pipeline/constants/label_encodings/fuel_type.json]\n",
      "[2023-12-29 09:09:24,626: 132: us_used_cars_ml_pipeline_logger: INFO: common:  json file loaded successfully from: us_used_cars_ml_pipeline/constants/label_encodings/has_accidents.json]\n",
      "[2023-12-29 09:09:24,734: 132: us_used_cars_ml_pipeline_logger: INFO: common:  json file loaded successfully from: us_used_cars_ml_pipeline/constants/label_encodings/is_new.json]\n",
      "[2023-12-29 09:09:24,827: 132: us_used_cars_ml_pipeline_logger: INFO: common:  json file loaded successfully from: us_used_cars_ml_pipeline/constants/label_encodings/listing_color.json]\n",
      "[2023-12-29 09:09:24,917: 132: us_used_cars_ml_pipeline_logger: INFO: common:  json file loaded successfully from: us_used_cars_ml_pipeline/constants/label_encodings/salvage.json]\n",
      "[2023-12-29 09:09:25,005: 132: us_used_cars_ml_pipeline_logger: INFO: common:  json file loaded successfully from: us_used_cars_ml_pipeline/constants/label_encodings/transmission.json]\n",
      "[2023-12-29 09:09:25,084: 132: us_used_cars_ml_pipeline_logger: INFO: common:  json file loaded successfully from: us_used_cars_ml_pipeline/constants/label_encodings/wheel_system.json]\n",
      "[2023-12-29 09:09:25,169: 683: us_used_cars_ml_pipeline_logger: INFO: data_cleaning:  6. Specified features have been encoded using Label Encoder]\n"
     ]
    },
    {
     "name": "stderr",
     "output_type": "stream",
     "text": [
      "23/12/29 09:09:26 WARN util.package: Truncated the string representation of a plan since it was too large. This behavior can be adjusted by setting 'spark.sql.debug.maxToStringFields'.\n",
      "[Stage 12:===================================================>    (11 + 1) / 12]\r"
     ]
    },
    {
     "name": "stdout",
     "output_type": "stream",
     "text": [
      "[2023-12-29 09:09:32,787: 688: us_used_cars_ml_pipeline_logger: INFO: data_cleaning:  7. Features with nans, for which modeling is required, have been saved]\n",
      "[2023-12-29 09:09:32,788: 858: us_used_cars_ml_pipeline_logger: INFO: data_cleaning:  PART I. COMPLETED]\n"
     ]
    },
    {
     "name": "stderr",
     "output_type": "stream",
     "text": [
      "[Stage 24:============================>                            (6 + 6) / 12]\r"
     ]
    },
    {
     "name": "stdout",
     "output_type": "stream",
     "text": [
      "[2023-12-29 09:09:36,147: 862: us_used_cars_ml_pipeline_logger: INFO: data_cleaning:  Data has been cached]\n",
      "[2023-12-29 09:09:36,148: 865: us_used_cars_ml_pipeline_logger: INFO: data_cleaning:  PART II. STARTING]\n",
      "[2023-12-29 09:09:36,156: 44: us_used_cars_ml_pipeline_logger: INFO: common:  yaml file: us_used_cars_ml_pipeline/constants/features_with_nans.yaml loaded successfully]\n",
      "[2023-12-29 09:09:36,159: 44: us_used_cars_ml_pipeline_logger: INFO: common:  yaml file: us_used_cars_ml_pipeline/constants/features_to_encode.yaml loaded successfully]\n",
      "[2023-12-29 09:09:36,162: 44: us_used_cars_ml_pipeline_logger: INFO: common:  yaml file: us_used_cars_ml_pipeline/constants/features_to_drop.yaml loaded successfully]\n",
      "[2023-12-29 09:09:36,164: 482: gensim.utils: INFO: utils:  loading KeyedVectors object from us_used_cars_ml_pipeline/models/glove/glove-twitter-25.bin]\n"
     ]
    },
    {
     "name": "stderr",
     "output_type": "stream",
     "text": [
      "\r",
      "                                                                                \r"
     ]
    },
    {
     "name": "stdout",
     "output_type": "stream",
     "text": [
      "[2023-12-29 09:09:36,822: 521: gensim.utils: INFO: utils:  loading vectors from us_used_cars_ml_pipeline/models/glove/glove-twitter-25.bin.vectors.npy with mmap=None]\n",
      "[2023-12-29 09:09:36,888: 448: gensim.utils: INFO: utils:  KeyedVectors lifecycle event {'fname': 'us_used_cars_ml_pipeline/models/glove/glove-twitter-25.bin', 'datetime': '2023-12-29T09:09:36.888852', 'gensim': '4.3.2', 'python': '3.8.8 | packaged by conda-forge | (default, Feb 20 2021, 16:22:27) \\n[GCC 9.3.0]', 'platform': 'Linux-4.18.0-240.15.1.el8_3.x86_64-x86_64-with-glibc2.10', 'event': 'loaded'}]\n"
     ]
    },
    {
     "data": {
      "application/vnd.jupyter.widget-view+json": {
       "model_id": "9fa8205767cd4dfe8229a7535aa4847e",
       "version_major": 2,
       "version_minor": 0
      },
      "text/plain": [
       "  0%|          | 0/38 [00:00<?, ?it/s]"
      ]
     },
     "metadata": {},
     "output_type": "display_data"
    },
    {
     "name": "stdout",
     "output_type": "stream",
     "text": [
      "[2023-12-29 09:09:39,184: 767: us_used_cars_ml_pipeline_logger: INFO: data_cleaning:  1. Columns to indicate nans presence have been created]\n",
      "[2023-12-29 09:09:39,186: 770: us_used_cars_ml_pipeline_logger: INFO: data_cleaning:  2. No need to merge data]\n",
      "[2023-12-29 09:09:39,715: 775: us_used_cars_ml_pipeline_logger: INFO: data_cleaning:  3. Data has been cached]\n"
     ]
    },
    {
     "data": {
      "application/vnd.jupyter.widget-view+json": {
       "model_id": "8f12bea6ad844d479c56ed199c50a436",
       "version_major": 2,
       "version_minor": 0
      },
      "text/plain": [
       "  0%|          | 0/4 [00:00<?, ?it/s]"
      ]
     },
     "metadata": {},
     "output_type": "display_data"
    },
    {
     "name": "stdout",
     "output_type": "stream",
     "text": [
      "[2023-12-29 09:10:00,546: 780: us_used_cars_ml_pipeline_logger: INFO: data_cleaning:  4. Specified features have been encoded using glove-twitter-25 model]\n"
     ]
    },
    {
     "name": "stderr",
     "output_type": "stream",
     "text": [
      "                                                                                \r"
     ]
    },
    {
     "name": "stdout",
     "output_type": "stream",
     "text": [
      "[2023-12-29 09:11:17,675: 784: us_used_cars_ml_pipeline_logger: INFO: data_cleaning:  5. Data has been saved]\n",
      "[2023-12-29 09:11:17,989: 788: us_used_cars_ml_pipeline_logger: INFO: data_cleaning:  6. Data has been uncached]\n",
      "[2023-12-29 09:11:18,049: 867: us_used_cars_ml_pipeline_logger: INFO: data_cleaning:  PART II. COMPLETED]\n",
      "[2023-12-29 09:11:18,050: 870: us_used_cars_ml_pipeline_logger: INFO: data_cleaning:  PART III. STARTING]\n",
      "[2023-12-29 09:11:18,062: 44: us_used_cars_ml_pipeline_logger: INFO: common:  yaml file: us_used_cars_ml_pipeline/constants/features_with_nans.yaml loaded successfully]\n",
      "[2023-12-29 09:11:18,066: 44: us_used_cars_ml_pipeline_logger: INFO: common:  yaml file: us_used_cars_ml_pipeline/constants/features_to_encode.yaml loaded successfully]\n",
      "[2023-12-29 09:11:18,331: 821: us_used_cars_ml_pipeline_logger: INFO: data_cleaning:  1. Time-related features have been computed]\n"
     ]
    },
    {
     "data": {
      "application/vnd.jupyter.widget-view+json": {
       "model_id": "315de03acfbe4a16bcd2e574c4eb7edf",
       "version_major": 2,
       "version_minor": 0
      },
      "text/plain": [
       "  0%|          | 0/12 [00:00<?, ?it/s]"
      ]
     },
     "metadata": {},
     "output_type": "display_data"
    },
    {
     "name": "stdout",
     "output_type": "stream",
     "text": [
      "[2023-12-29 09:11:18,343: 132: us_used_cars_ml_pipeline_logger: INFO: common:  json file loaded successfully from: us_used_cars_ml_pipeline/constants/label_encodings/wheel_system.json]\n",
      "[2023-12-29 09:11:18,412: 831: us_used_cars_ml_pipeline_logger: INFO: data_cleaning:  2. Nans have been replaced with median value or top class]\n",
      "[2023-12-29 09:11:22,716: 44: us_used_cars_ml_pipeline_logger: INFO: common:  yaml file: us_used_cars_ml_pipeline/constants/rare_classes.yaml loaded successfully]\n",
      "[2023-12-29 09:11:22,741: 533: us_used_cars_ml_pipeline_logger: INFO: data_cleaning:  1. Data about rare classes has been read]\n"
     ]
    },
    {
     "data": {
      "application/vnd.jupyter.widget-view+json": {
       "model_id": "380f341927634cbdb2054ba4818b687d",
       "version_major": 2,
       "version_minor": 0
      },
      "text/plain": [
       "  0%|          | 0/7 [00:00<?, ?it/s]"
      ]
     },
     "metadata": {},
     "output_type": "display_data"
    },
    {
     "name": "stdout",
     "output_type": "stream",
     "text": [
      "[2023-12-29 09:11:22,851: 544: us_used_cars_ml_pipeline_logger: INFO: data_cleaning:  2.1. Rare classes have been replaced]\n",
      "[2023-12-29 09:11:23,082: 552: us_used_cars_ml_pipeline_logger: INFO: data_cleaning:  2.2. engine_cylinders column has been encoded with average encodings]\n",
      "[2023-12-29 09:11:23,518: 544: us_used_cars_ml_pipeline_logger: INFO: data_cleaning:  2.1. Rare classes have been replaced]\n",
      "[2023-12-29 09:11:23,717: 552: us_used_cars_ml_pipeline_logger: INFO: data_cleaning:  2.2. exterior_color column has been encoded with average encodings]\n",
      "[2023-12-29 09:11:24,380: 544: us_used_cars_ml_pipeline_logger: INFO: data_cleaning:  2.1. Rare classes have been replaced]\n",
      "[2023-12-29 09:11:24,575: 552: us_used_cars_ml_pipeline_logger: INFO: data_cleaning:  2.2. interior_color column has been encoded with average encodings]\n",
      "[2023-12-29 09:11:24,675: 544: us_used_cars_ml_pipeline_logger: INFO: data_cleaning:  2.1. Rare classes have been replaced]\n",
      "[2023-12-29 09:11:24,853: 552: us_used_cars_ml_pipeline_logger: INFO: data_cleaning:  2.2. city column has been encoded with average encodings]\n",
      "[2023-12-29 09:11:24,961: 544: us_used_cars_ml_pipeline_logger: INFO: data_cleaning:  2.1. Rare classes have been replaced]\n",
      "[2023-12-29 09:11:25,116: 552: us_used_cars_ml_pipeline_logger: INFO: data_cleaning:  2.2. model_name column has been encoded with average encodings]\n",
      "[2023-12-29 09:11:25,212: 544: us_used_cars_ml_pipeline_logger: INFO: data_cleaning:  2.1. Rare classes have been replaced]\n",
      "[2023-12-29 09:11:25,340: 552: us_used_cars_ml_pipeline_logger: INFO: data_cleaning:  2.2. make_name column has been encoded with average encodings]\n",
      "[2023-12-29 09:11:25,430: 544: us_used_cars_ml_pipeline_logger: INFO: data_cleaning:  2.1. Rare classes have been replaced]\n",
      "[2023-12-29 09:11:25,571: 552: us_used_cars_ml_pipeline_logger: INFO: data_cleaning:  2.2. transmission_display column has been encoded with average encodings]\n",
      "[2023-12-29 09:11:25,580: 836: us_used_cars_ml_pipeline_logger: INFO: data_cleaning:  3. Specified features have been encoded using k-fold mean target encoder]\n",
      "[2023-12-29 09:11:29,242: 872: us_used_cars_ml_pipeline_logger: INFO: data_cleaning:  PART III. COMPLETED]\n",
      "[2023-12-29 09:11:29,253: 41: us_used_cars_ml_pipeline_logger: INFO: new_data_pipeline:  === III. DATA CLEANING STAGE HAS BEEN COMPLETED ===]\n",
      "[2023-12-29 09:11:29,503: 468: us_used_cars_ml_pipeline_logger: INFO: data_preparation:  Cleaned data has been read]\n",
      "[2023-12-29 09:11:29,504: 471: us_used_cars_ml_pipeline_logger: INFO: data_preparation:  PART I. STARTING]\n",
      "[2023-12-29 09:11:29,505: 362: us_used_cars_ml_pipeline_logger: INFO: data_preparation:  1-5. Scalers and imputer models have already been fitted. Skipping this part]\n",
      "[2023-12-29 09:11:29,505: 473: us_used_cars_ml_pipeline_logger: INFO: data_preparation:  PART I. COMPLETED]\n",
      "[2023-12-29 09:11:29,506: 476: us_used_cars_ml_pipeline_logger: INFO: data_preparation:  PART II. STARTING]\n",
      "[2023-12-29 09:11:29,521: 44: us_used_cars_ml_pipeline_logger: INFO: common:  yaml file: us_used_cars_ml_pipeline/constants/features_list_for_data_preparation.yaml loaded successfully]\n",
      "[2023-12-29 09:11:30,270: 398: us_used_cars_ml_pipeline_logger: INFO: data_preparation:  6. features_for_imputers group has been scaled]\n"
     ]
    },
    {
     "data": {
      "application/vnd.jupyter.widget-view+json": {
       "model_id": "fd808257b43840a5a4599264b5b9b0ba",
       "version_major": 2,
       "version_minor": 0
      },
      "text/plain": [
       "  0%|          | 0/18 [00:00<?, ?it/s]"
      ]
     },
     "metadata": {},
     "output_type": "display_data"
    },
    {
     "name": "stdout",
     "output_type": "stream",
     "text": [
      "[2023-12-29 09:11:35,835: 408: us_used_cars_ml_pipeline_logger: INFO: data_preparation:  7.1 Missing data in categorical features has been filled in]\n"
     ]
    },
    {
     "data": {
      "application/vnd.jupyter.widget-view+json": {
       "model_id": "77b18d295a624ae2b2541a4e10ed4ebe",
       "version_major": 2,
       "version_minor": 0
      },
      "text/plain": [
       "  0%|          | 0/8 [00:00<?, ?it/s]"
      ]
     },
     "metadata": {},
     "output_type": "display_data"
    },
    {
     "name": "stderr",
     "output_type": "stream",
     "text": [
      "                                                                                \r"
     ]
    },
    {
     "name": "stdout",
     "output_type": "stream",
     "text": [
      "[2023-12-29 09:11:41,968: 408: us_used_cars_ml_pipeline_logger: INFO: data_preparation:  7.2 Missing data in numerical features has been filled in]\n",
      "[2023-12-29 09:11:42,004: 416: us_used_cars_ml_pipeline_logger: INFO: data_preparation:  8.1.1. numerical_features_with_nans features has been grouped]\n",
      "[2023-12-29 09:11:42,228: 425: us_used_cars_ml_pipeline_logger: INFO: data_preparation:  8.1.2. numerical_features_with_nans group has been scaled]\n",
      "[2023-12-29 09:11:42,264: 416: us_used_cars_ml_pipeline_logger: INFO: data_preparation:  8.2.1. categorical_features_with_nans features has been grouped]\n",
      "[2023-12-29 09:11:42,488: 425: us_used_cars_ml_pipeline_logger: INFO: data_preparation:  8.2.2. categorical_features_with_nans group has been scaled]\n",
      "[2023-12-29 09:11:42,684: 433: us_used_cars_ml_pipeline_logger: INFO: data_preparation:  9. other_features features has been grouped]\n",
      "[2023-12-29 09:11:42,708: 437: us_used_cars_ml_pipeline_logger: INFO: data_preparation:  10. Data has been merged]\n",
      "[2023-12-29 09:11:42,846: 453: us_used_cars_ml_pipeline_logger: INFO: data_preparation:  11. Data has been regrouped]\n"
     ]
    },
    {
     "name": "stderr",
     "output_type": "stream",
     "text": [
      "\r",
      "[Stage 198:>                                                      (0 + 12) / 12]\r"
     ]
    },
    {
     "name": "stdout",
     "output_type": "stream",
     "text": [
      "[2023-12-29 09:11:44,759: 457: us_used_cars_ml_pipeline_logger: INFO: data_preparation:  12. Prepared data has been saved]\n",
      "[2023-12-29 09:11:44,761: 481: us_used_cars_ml_pipeline_logger: INFO: data_preparation:  PART II. COMPLETED]\n",
      "[2023-12-29 09:11:44,762: 45: us_used_cars_ml_pipeline_logger: INFO: new_data_pipeline:  === IV. DATA PREPARATION STAGE HAS BEEN COMPLETED ===]\n",
      "[2023-12-29 09:11:44,830: 152: us_used_cars_ml_pipeline_logger: INFO: stacking_regressor_modeling:  Prepared data has been loaded]\n"
     ]
    },
    {
     "name": "stderr",
     "output_type": "stream",
     "text": [
      "\r",
      "[Stage 198:============================>                           (6 + 6) / 12]\r",
      "\r",
      "                                                                                \r"
     ]
    },
    {
     "data": {
      "application/vnd.jupyter.widget-view+json": {
       "model_id": "be952da41e54417c95aededa5635c93e",
       "version_major": 2,
       "version_minor": 0
      },
      "text/plain": [
       "Predicting using base models:   0%|          | 0/3 [00:00<?, ?it/s]"
      ]
     },
     "metadata": {},
     "output_type": "display_data"
    },
    {
     "name": "stdout",
     "output_type": "stream",
     "text": [
      "[2023-12-29 09:11:44,865: 44: us_used_cars_ml_pipeline_logger: INFO: common:  yaml file: us_used_cars_ml_pipeline/tests/importances/LinearRegression.yaml loaded successfully]\n",
      "[2023-12-29 09:11:45,853: 44: us_used_cars_ml_pipeline_logger: INFO: common:  yaml file: us_used_cars_ml_pipeline/tests/importances/RandomForestRegressor.yaml loaded successfully]\n",
      "[2023-12-29 09:11:47,236: 44: us_used_cars_ml_pipeline_logger: INFO: common:  yaml file: us_used_cars_ml_pipeline/tests/importances/GBTRegressor.yaml loaded successfully]\n"
     ]
    },
    {
     "name": "stderr",
     "output_type": "stream",
     "text": [
      "23/12/29 09:11:47 WARN execution.CacheManager: Asked to cache already cached data.\n"
     ]
    },
    {
     "name": "stdout",
     "output_type": "stream",
     "text": [
      "[2023-12-29 09:11:48,415: 213: us_used_cars_ml_pipeline_logger: INFO: stacking_regressor_modeling:  First level predictions have been calculated]\n"
     ]
    },
    {
     "data": {
      "application/vnd.jupyter.widget-view+json": {
       "model_id": "3be23a5231e34b5aa8e462357deb69a3",
       "version_major": 2,
       "version_minor": 0
      },
      "text/plain": [
       "  0%|          | 0/3 [00:00<?, ?it/s]"
      ]
     },
     "metadata": {},
     "output_type": "display_data"
    },
    {
     "name": "stdout",
     "output_type": "stream",
     "text": [
      "[2023-12-29 09:11:49,053: 217: us_used_cars_ml_pipeline_logger: INFO: stacking_regressor_modeling:  First level predictions have been merged]\n",
      "[2023-12-29 09:11:49,644: 224: us_used_cars_ml_pipeline_logger: INFO: stacking_regressor_modeling:  Second level prediction has been calculated]\n",
      "[2023-12-29 09:11:49,645: 49: us_used_cars_ml_pipeline_logger: INFO: new_data_pipeline:  === V. PREDICTIONS HAVE BEEN CALCULATED AND SAVED===]\n",
      "[2023-12-29 09:11:49,724: 149: us_used_cars_ml_pipeline_logger: INFO: metrics_calculation:  Raw data has been loaded]\n",
      "[2023-12-29 09:11:49,800: 153: us_used_cars_ml_pipeline_logger: INFO: metrics_calculation:  Predictions have been loaded]\n",
      "[2023-12-29 09:11:51,727: 157: us_used_cars_ml_pipeline_logger: INFO: metrics_calculation:  Metrics have been calculated and saved]\n",
      "[2023-12-29 09:11:51,729: 54: us_used_cars_ml_pipeline_logger: INFO: new_data_pipeline:  === VI. METRICS CALCULATION STAGE HAS BEEN COMPLETED ===]\n",
      "[2023-12-29 09:11:51,730: 58: us_used_cars_ml_pipeline_logger: INFO: new_data_pipeline:  === COMPLETED PROCESSING NEW DATA ===]\n",
      "CPU times: user 9.79 s, sys: 1.68 s, total: 11.5 s\n",
      "Wall time: 2min 33s\n"
     ]
    }
   ],
   "source": [
    "%%time\n",
    "run(spark, do_conversion=False, calculate_metrics=True)"
   ]
  },
  {
   "cell_type": "markdown",
   "id": "8e546111",
   "metadata": {},
   "source": [
    "# Checking predictions and metrics"
   ]
  },
  {
   "cell_type": "code",
   "execution_count": 9,
   "id": "1e534e67",
   "metadata": {},
   "outputs": [
    {
     "name": "stdout",
     "output_type": "stream",
     "text": [
      "+------+---------+\n",
      "|metric|    value|\n",
      "+------+---------+\n",
      "|  rmse|  5501.19|\n",
      "|   mae| 4349.733|\n",
      "|    r2|0.8691952|\n",
      "+------+---------+\n",
      "\n"
     ]
    }
   ],
   "source": [
    "df = spark.read.json('hdfs:///home/eabraham-373705/data/metrics/NEW_metrics.json')\n",
    "df.show()"
   ]
  },
  {
   "cell_type": "code",
   "execution_count": 20,
   "id": "510e268d",
   "metadata": {},
   "outputs": [],
   "source": [
    "df = spark.read.parquet('/home/eabraham-373705/data/predictions/NEW_second_level_predictions.parquet', \n",
    "                        header=True, inferSchema=True)\n",
    "df2 = spark.read.parquet('/home/eabraham-373705/data/raw/NEW_raw_data.parquet', \n",
    "                        header=True, inferSchema=True)\n",
    "df2 = df2.select('vin', 'price')\n",
    "df = df.join(df2, on='vin', how='left')"
   ]
  },
  {
   "cell_type": "code",
   "execution_count": 22,
   "id": "a3c6d5bd",
   "metadata": {},
   "outputs": [
    {
     "name": "stdout",
     "output_type": "stream",
     "text": [
      "+-----------------+------------------+-------+\n",
      "|              vin|        prediction|  price|\n",
      "+-----------------+------------------+-------+\n",
      "|1G11C5SA9DF208064| 9833.636111618302| 8288.0|\n",
      "|KMHL34JJXLA012167| 23463.89605507132|31600.0|\n",
      "|1FTEW1CP9LKE93480| 43493.38756785468|34315.0|\n",
      "|2GNFLHEK5E6202302| 12171.82698219005|10617.0|\n",
      "|5UXKR6C50J0U15182| 59107.40822059929|54900.0|\n",
      "|2T3BFREV7HW637734|16158.662423488715|21250.0|\n",
      "|5TDKK3DCXBS068413|10403.470680028315| 7900.0|\n",
      "|1GYS4HKJ4LR117429|48805.301917833756|61999.0|\n",
      "|2C4RC1BG6KR597128|20852.951868415043|21081.0|\n",
      "|2FMPK4G97JBC39531|28428.957823514847|23449.0|\n",
      "+-----------------+------------------+-------+\n",
      "only showing top 10 rows\n",
      "\n"
     ]
    }
   ],
   "source": [
    "df.show(10)"
   ]
  },
  {
   "cell_type": "code",
   "execution_count": null,
   "id": "8b7eda16",
   "metadata": {},
   "outputs": [],
   "source": []
  }
 ],
 "metadata": {
  "kernelspec": {
   "display_name": "Python 3 (ipykernel)",
   "language": "python",
   "name": "python3"
  },
  "language_info": {
   "codemirror_mode": {
    "name": "ipython",
    "version": 3
   },
   "file_extension": ".py",
   "mimetype": "text/x-python",
   "name": "python",
   "nbconvert_exporter": "python",
   "pygments_lexer": "ipython3",
   "version": "3.8.8"
  }
 },
 "nbformat": 4,
 "nbformat_minor": 5
}
