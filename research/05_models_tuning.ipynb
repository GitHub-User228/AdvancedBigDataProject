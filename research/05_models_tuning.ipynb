{
 "cells": [
  {
   "cell_type": "code",
   "execution_count": 1,
   "id": "53fc82e6-9623-4545-8920-1bec331a1ffa",
   "metadata": {},
   "outputs": [],
   "source": [
    "import os\n",
    "\n",
    "import warnings\n",
    "warnings.filterwarnings(\"ignore\")"
   ]
  },
  {
   "cell_type": "code",
   "execution_count": 2,
   "id": "84de97c4-278c-4c93-80ba-6516e3a6ec6d",
   "metadata": {},
   "outputs": [
    {
     "data": {
      "text/plain": [
       "'/home/jovyan/nfs-home/scalable_ml_pipelines/src'"
      ]
     },
     "execution_count": 2,
     "metadata": {},
     "output_type": "execute_result"
    }
   ],
   "source": [
    "os.chdir(\"../src/\")\n",
    "%pwd"
   ]
  },
  {
   "cell_type": "code",
   "execution_count": 3,
   "id": "f4937429",
   "metadata": {},
   "outputs": [],
   "source": [
    "import socket\n",
    "\n",
    "LOCAL_IP = socket.gethostbyname(socket.gethostname())"
   ]
  },
  {
   "cell_type": "code",
   "execution_count": 4,
   "id": "d96ca5b5-de35-4713-911e-80a946f896db",
   "metadata": {},
   "outputs": [],
   "source": [
    "name_space = \"eabraham-373705\"\n",
    "\n",
    "# Master node\n",
    "kubernetes_master_url = \"k8s://https://10.32.7.103:6443\"\n",
    "\n",
    "# Resource settings\n",
    "driver_cores = \"8\"\n",
    "executor_cores = \"8\"\n",
    "driver_memory = \"30g\"\n",
    "executor_memory = \"30g\"\n",
    "executor_memory_overhead = \"2g\"\n",
    "\n",
    "# These are the limits\n",
    "cpu_limit = \"3\"  # 12 cores\n",
    "memory_limit = \"32g\"  # Upto 32 GB\n",
    "executor_limit = \"8\""
   ]
  },
  {
   "cell_type": "code",
   "execution_count": 5,
   "id": "6486f767",
   "metadata": {},
   "outputs": [
    {
     "name": "stderr",
     "output_type": "stream",
     "text": [
      "WARNING: An illegal reflective access operation has occurred\n",
      "WARNING: Illegal reflective access by org.apache.spark.unsafe.Platform (file:/usr/local/spark-3.1.1-bin-hadoop3.2/jars/spark-unsafe_2.12-3.1.1.jar) to constructor java.nio.DirectByteBuffer(long,int)\n",
      "WARNING: Please consider reporting this to the maintainers of org.apache.spark.unsafe.Platform\n",
      "WARNING: Use --illegal-access=warn to enable warnings of further illegal reflective access operations\n",
      "WARNING: All illegal access operations will be denied in a future release\n",
      "23/12/17 14:49:36 WARN util.NativeCodeLoader: Unable to load native-hadoop library for your platform... using builtin-java classes where applicable\n",
      "Setting default log level to \"WARN\".\n",
      "To adjust logging level use sc.setLogLevel(newLevel). For SparkR, use setLogLevel(newLevel).\n",
      "23/12/17 14:49:37 WARN spark.SparkConf: Note that spark.local.dir will be overridden by the value set by the cluster manager (via SPARK_LOCAL_DIRS in mesos/standalone/kubernetes and LOCAL_DIRS in YARN).\n"
     ]
    }
   ],
   "source": [
    "from pyspark.sql import SparkSession\n",
    "\n",
    "APP_NAME = 'scalables_executor'\n",
    "\n",
    "\n",
    "spark = SparkSession\\\n",
    "    .builder\\\n",
    "    .appName(APP_NAME)\\\n",
    "    .master(kubernetes_master_url)\\\n",
    "    .config(\"spark.driver.host\", LOCAL_IP)\\\n",
    "    .config(\"spark.driver.bindAddress\", \"0.0.0.0\")\\\n",
    "    .config(\"spark.executor.instances\", \"2\")\\\n",
    "    .config(\"spark.executor.cores\", executor_cores)\\\n",
    "    .config(\"spark.executor.memory\", executor_memory)\\\n",
    "    .config(\"spark.memory.fraction\", \"0.8\")\\\n",
    "    .config(\"spark.memory.storageFraction\", \"0.2\")\\\n",
    "    .config(\"spark.kubernetes.executor.limit.cores\", executor_limit)\\\n",
    "    .config(\"spark.kubernetes.namespace\", name_space)\\\n",
    "    .config(\"spark.kubernetes.authenticate.driver.serviceAccountName\", \"spark\")\\\n",
    "    .config(\"spark.kubernetes.driver.label.appname\", APP_NAME)\\\n",
    "    .config(\"spark.kubernetes.executor.label.appname\", APP_NAME)\\\n",
    "    .config(\"spark.kubernetes.executor.deleteOnTermination\", \"false\") \\\n",
    "    .config(\"spark.kubernetes.container.image.pullPolicy\", \"Always\") \\\n",
    "    .config(\"spark.kubernetes.container.image\", \"node03.st:5000/pyspark-hdfs-jupyter:eabraham-373705-v4-executor\")\\\n",
    "    .config(\"spark.local.dir\", \"/tmp/spark\")\\\n",
    "    .config(\"spark.kubernetes.driver.volumes.emptyDir.spark-local-dir-tmp-spark.mount.path\", \"/tmp/spark\")\\\n",
    "    .config(\"spark.kubernetes.driver.volumes.emptyDir.spark-local-dir-tmp-spark.mount.readOnly\", \"false\")\\\n",
    "    .config(\"spark.kubernetes.executor.volumes.emptyDir.spark-local-dir-tmp-spark.mount.path\", \"/tmp/spark\")\\\n",
    "    .config(\"spark.kubernetes.executor.volumes.emptyDir.spark-local-dir-tmp-spark.mount.readOnly\", \"false\")\\\n",
    "    .getOrCreate()\n"
   ]
  },
  {
   "cell_type": "code",
   "execution_count": 6,
   "id": "cd481843",
   "metadata": {},
   "outputs": [
    {
     "data": {
      "text/html": [
       "\n",
       "            <div>\n",
       "                <p><b>SparkSession - in-memory</b></p>\n",
       "                \n",
       "        <div>\n",
       "            <p><b>SparkContext</b></p>\n",
       "\n",
       "            <p><a href=\"http://10.128.112.52:4040\">Spark UI</a></p>\n",
       "\n",
       "            <dl>\n",
       "              <dt>Version</dt>\n",
       "                <dd><code>v3.1.1</code></dd>\n",
       "              <dt>Master</dt>\n",
       "                <dd><code>k8s://https://10.32.7.103:6443</code></dd>\n",
       "              <dt>AppName</dt>\n",
       "                <dd><code>scalables_executor</code></dd>\n",
       "            </dl>\n",
       "        </div>\n",
       "        \n",
       "            </div>\n",
       "        "
      ],
      "text/plain": [
       "<pyspark.sql.session.SparkSession at 0x7f5d9767fc70>"
      ]
     },
     "execution_count": 6,
     "metadata": {},
     "output_type": "execute_result"
    }
   ],
   "source": [
    "spark"
   ]
  },
  {
   "cell_type": "code",
   "execution_count": 7,
   "id": "0fd5ed23-5b57-40cb-af5e-ac5084da6e94",
   "metadata": {},
   "outputs": [
    {
     "name": "stdout",
     "output_type": "stream",
     "text": [
      "[2023-12-17 14:49:44,563: 145: numexpr.utils: INFO: utils:  Note: NumExpr detected 16 cores but \"NUMEXPR_MAX_THREADS\" not set, so enforcing safe limit of 8.]\n",
      "[2023-12-17 14:49:44,564: 157: numexpr.utils: INFO: utils:  NumExpr defaulting to 8 threads.]\n",
      "[2023-12-17 14:49:45,166: 44: us_used_cars_ml_pipeline_logger: INFO: common:  yaml file: us_used_cars_ml_pipeline/config/config.yaml loaded successfully]\n",
      "[2023-12-17 14:49:45,169: 44: us_used_cars_ml_pipeline_logger: INFO: common:  yaml file: us_used_cars_ml_pipeline/params.yaml loaded successfully]\n",
      "[2023-12-17 14:49:45,170: 44: us_used_cars_ml_pipeline_logger: INFO: common:  yaml file: us_used_cars_ml_pipeline/schema.yaml loaded successfully]\n"
     ]
    }
   ],
   "source": [
    "from us_used_cars_ml_pipeline.config.configuration import ConfigurationManager\n",
    "from us_used_cars_ml_pipeline.components.models_tuning import ModelsTuning\n",
    "\n",
    "config_manager = ConfigurationManager()\n",
    "models_tuning_config = config_manager.get_models_tuning_config()\n",
    "\n",
    "models_tuning = ModelsTuning(models_tuning_config)"
   ]
  },
  {
   "cell_type": "code",
   "execution_count": 8,
   "id": "6a16d013",
   "metadata": {},
   "outputs": [
    {
     "data": {
      "text/plain": [
       "ModelsTuningConfig(path_to_prepared_data='hdfs:///home/eabraham-373705/data/prepared/prepared_data.parquet', path_to_importances='us_used_cars_ml_pipeline/tests/importances/', path_to_feature_selection_scores='us_used_cars_ml_pipeline/tests/feature_selection_scores/', path_to_parameters_grid='us_used_cars_ml_pipeline/constants/grid_search/', path_to_best_models='hdfs:///home/eabraham-373705/models/best/', path_to_best_params='us_used_cars_ml_pipeline/tests/models_tuning/best_params/', path_to_scores='us_used_cars_ml_pipeline/tests/models_tuning/scores/', metric='r2', tuner='CVTuner', seed=42, test_ratio=0.05, n_folds=5, models=BoxList(['LinearRegression', 'RandomForestRegressor', 'GBTRegressor']), n_feats=ConfigBox({'LinearRegression': 70, 'RandomForestRegressor': 80, 'GBTRegressor': 70}))"
      ]
     },
     "execution_count": 8,
     "metadata": {},
     "output_type": "execute_result"
    }
   ],
   "source": [
    "models_tuning_config"
   ]
  },
  {
   "cell_type": "code",
   "execution_count": 9,
   "id": "cf2bb9a0-af54-49de-aead-a0e3bbe8101e",
   "metadata": {},
   "outputs": [
    {
     "name": "stderr",
     "output_type": "stream",
     "text": [
      "                                                                                \r"
     ]
    },
    {
     "name": "stdout",
     "output_type": "stream",
     "text": [
      "[2023-12-17 14:49:49,323: 153: us_used_cars_ml_pipeline_logger: INFO: models_tuning:  Prepared data has been read]\n",
      "[2023-12-17 14:49:49,325: 156: us_used_cars_ml_pipeline_logger: INFO: models_tuning:  STARTING]\n"
     ]
    },
    {
     "data": {
      "application/vnd.jupyter.widget-view+json": {
       "model_id": "66179bf780ce4fb9beafe960df90a82f",
       "version_major": 2,
       "version_minor": 0
      },
      "text/plain": [
       "Tuning models:   0%|          | 0/3 [00:00<?, ?it/s]"
      ]
     },
     "metadata": {},
     "output_type": "display_data"
    },
    {
     "name": "stdout",
     "output_type": "stream",
     "text": [
      "[2023-12-17 14:49:49,443: 44: us_used_cars_ml_pipeline_logger: INFO: common:  yaml file: us_used_cars_ml_pipeline/tests/importances/LinearRegression.yaml loaded successfully]\n",
      "[2023-12-17 14:49:50,054: 127: us_used_cars_ml_pipeline_logger: INFO: models_tuning:  1.1.1. Best set of features for LinearRegression model has been selected]\n",
      "[2023-12-17 14:49:50,055: 137: us_used_cars_ml_pipeline_logger: INFO: models_tuning:  2.1.2. CVTuner has been initialized.]\n",
      "[2023-12-17 14:49:50,071: 44: us_used_cars_ml_pipeline_logger: INFO: common:  yaml file: us_used_cars_ml_pipeline/constants/grid_search/LinearRegression.yaml loaded successfully]\n",
      "[2023-12-17 14:49:50,124: 130: us_used_cars_ml_pipeline_logger: INFO: tuners:  2.1.3. Cross Validation based tuner has been initialized]\n"
     ]
    },
    {
     "name": "stderr",
     "output_type": "stream",
     "text": [
      "23/12/17 14:49:50 WARN util.package: Truncated the string representation of a plan since it was too large. This behavior can be adjusted by setting 'spark.sql.debug.maxToStringFields'.\n",
      "23/12/17 14:50:13 WARN netlib.BLAS: Failed to load implementation from: com.github.fommil.netlib.NativeSystemBLAS\n",
      "23/12/17 14:50:13 WARN netlib.BLAS: Failed to load implementation from: com.github.fommil.netlib.NativeRefBLAS\n",
      "23/12/17 14:50:13 WARN netlib.LAPACK: Failed to load implementation from: com.github.fommil.netlib.NativeSystemLAPACK\n",
      "23/12/17 14:50:13 WARN netlib.LAPACK: Failed to load implementation from: com.github.fommil.netlib.NativeRefLAPACK\n",
      "[Stage 1229:===============================================>      (14 + 2) / 16]\r"
     ]
    },
    {
     "name": "stdout",
     "output_type": "stream",
     "text": [
      "[2023-12-17 14:55:08,667: 134: us_used_cars_ml_pipeline_logger: INFO: tuners:  2.1.4. Tuner has been fitted]\n",
      "[2023-12-17 14:55:08,669: 138: us_used_cars_ml_pipeline_logger: INFO: tuners:  2.1.5. Scores and best params set have been extracted from tuner]\n",
      "[2023-12-17 14:55:08,683: 66: us_used_cars_ml_pipeline_logger: INFO: common:  yaml file saved at: us_used_cars_ml_pipeline/tests/models_tuning/scores/CVTuner/LinearRegression.yaml]\n",
      "[2023-12-17 14:55:08,684: 142: us_used_cars_ml_pipeline_logger: INFO: tuners:  2.1.6. Scores for LinearRegression model have been saved]\n",
      "[2023-12-17 14:55:08,689: 66: us_used_cars_ml_pipeline_logger: INFO: common:  yaml file saved at: us_used_cars_ml_pipeline/tests/models_tuning/best_params/CVTuner/LinearRegression.yaml]\n",
      "[2023-12-17 14:55:08,690: 146: us_used_cars_ml_pipeline_logger: INFO: tuners:  2.1.7. Best set of parameters for LinearRegression model has been saved]\n",
      "[2023-12-17 14:55:08,709: 44: us_used_cars_ml_pipeline_logger: INFO: common:  yaml file: us_used_cars_ml_pipeline/tests/importances/RandomForestRegressor.yaml loaded successfully]\n"
     ]
    },
    {
     "name": "stderr",
     "output_type": "stream",
     "text": [
      "\r",
      "[Stage 1229:==================================================>   (15 + 1) / 16]\r",
      "\r",
      "                                                                                \r"
     ]
    },
    {
     "name": "stdout",
     "output_type": "stream",
     "text": [
      "[2023-12-17 14:55:08,877: 127: us_used_cars_ml_pipeline_logger: INFO: models_tuning:  1.2.1. Best set of features for RandomForestRegressor model has been selected]\n",
      "[2023-12-17 14:55:08,878: 137: us_used_cars_ml_pipeline_logger: INFO: models_tuning:  2.2.2. CVTuner has been initialized.]\n",
      "[2023-12-17 14:55:08,889: 44: us_used_cars_ml_pipeline_logger: INFO: common:  yaml file: us_used_cars_ml_pipeline/constants/grid_search/RandomForestRegressor.yaml loaded successfully]\n",
      "[2023-12-17 14:55:08,917: 130: us_used_cars_ml_pipeline_logger: INFO: tuners:  2.2.3. Cross Validation based tuner has been initialized]\n"
     ]
    },
    {
     "name": "stderr",
     "output_type": "stream",
     "text": [
      "[Stage 2143:===========================================>          (13 + 3) / 16]\r"
     ]
    },
    {
     "name": "stdout",
     "output_type": "stream",
     "text": [
      "[2023-12-17 15:14:27,591: 134: us_used_cars_ml_pipeline_logger: INFO: tuners:  2.2.4. Tuner has been fitted]\n",
      "[2023-12-17 15:14:27,594: 138: us_used_cars_ml_pipeline_logger: INFO: tuners:  2.2.5. Scores and best params set have been extracted from tuner]\n",
      "[2023-12-17 15:14:27,604: 66: us_used_cars_ml_pipeline_logger: INFO: common:  yaml file saved at: us_used_cars_ml_pipeline/tests/models_tuning/scores/CVTuner/RandomForestRegressor.yaml]\n",
      "[2023-12-17 15:14:27,604: 142: us_used_cars_ml_pipeline_logger: INFO: tuners:  2.2.6. Scores for RandomForestRegressor model have been saved]\n",
      "[2023-12-17 15:14:27,609: 66: us_used_cars_ml_pipeline_logger: INFO: common:  yaml file saved at: us_used_cars_ml_pipeline/tests/models_tuning/best_params/CVTuner/RandomForestRegressor.yaml]\n",
      "[2023-12-17 15:14:27,610: 146: us_used_cars_ml_pipeline_logger: INFO: tuners:  2.2.7. Best set of parameters for RandomForestRegressor model has been saved]\n",
      "[2023-12-17 15:14:27,631: 44: us_used_cars_ml_pipeline_logger: INFO: common:  yaml file: us_used_cars_ml_pipeline/tests/importances/GBTRegressor.yaml loaded successfully]\n"
     ]
    },
    {
     "name": "stderr",
     "output_type": "stream",
     "text": [
      "\r",
      "                                                                                \r"
     ]
    },
    {
     "name": "stdout",
     "output_type": "stream",
     "text": [
      "[2023-12-17 15:14:27,770: 127: us_used_cars_ml_pipeline_logger: INFO: models_tuning:  1.3.1. Best set of features for GBTRegressor model has been selected]\n",
      "[2023-12-17 15:14:27,771: 137: us_used_cars_ml_pipeline_logger: INFO: models_tuning:  2.3.2. CVTuner has been initialized.]\n",
      "[2023-12-17 15:14:27,781: 44: us_used_cars_ml_pipeline_logger: INFO: common:  yaml file: us_used_cars_ml_pipeline/constants/grid_search/GBTRegressor.yaml loaded successfully]\n",
      "[2023-12-17 15:14:27,800: 130: us_used_cars_ml_pipeline_logger: INFO: tuners:  2.3.3. Cross Validation based tuner has been initialized]\n"
     ]
    },
    {
     "name": "stderr",
     "output_type": "stream",
     "text": [
      "                                                                                \r"
     ]
    },
    {
     "name": "stdout",
     "output_type": "stream",
     "text": [
      "[2023-12-17 15:29:09,291: 134: us_used_cars_ml_pipeline_logger: INFO: tuners:  2.3.4. Tuner has been fitted]\n",
      "[2023-12-17 15:29:09,293: 138: us_used_cars_ml_pipeline_logger: INFO: tuners:  2.3.5. Scores and best params set have been extracted from tuner]\n",
      "[2023-12-17 15:29:09,301: 66: us_used_cars_ml_pipeline_logger: INFO: common:  yaml file saved at: us_used_cars_ml_pipeline/tests/models_tuning/scores/CVTuner/GBTRegressor.yaml]\n",
      "[2023-12-17 15:29:09,302: 142: us_used_cars_ml_pipeline_logger: INFO: tuners:  2.3.6. Scores for GBTRegressor model have been saved]\n",
      "[2023-12-17 15:29:09,307: 66: us_used_cars_ml_pipeline_logger: INFO: common:  yaml file saved at: us_used_cars_ml_pipeline/tests/models_tuning/best_params/CVTuner/GBTRegressor.yaml]\n",
      "[2023-12-17 15:29:09,308: 146: us_used_cars_ml_pipeline_logger: INFO: tuners:  2.3.7. Best set of parameters for GBTRegressor model has been saved]\n",
      "[2023-12-17 15:29:09,311: 158: us_used_cars_ml_pipeline_logger: INFO: models_tuning:  COMPLETED]\n",
      "CPU times: user 8 s, sys: 3.44 s, total: 11.4 s\n",
      "Wall time: 39min 24s\n"
     ]
    }
   ],
   "source": [
    "%%time\n",
    "models_tuning.run_stage(spark)"
   ]
  },
  {
   "cell_type": "code",
   "execution_count": null,
   "id": "1058f5a0",
   "metadata": {},
   "outputs": [],
   "source": []
  }
 ],
 "metadata": {
  "kernelspec": {
   "display_name": "Python 3 (ipykernel)",
   "language": "python",
   "name": "python3"
  },
  "language_info": {
   "codemirror_mode": {
    "name": "ipython",
    "version": 3
   },
   "file_extension": ".py",
   "mimetype": "text/x-python",
   "name": "python",
   "nbconvert_exporter": "python",
   "pygments_lexer": "ipython3",
   "version": "3.8.8"
  }
 },
 "nbformat": 4,
 "nbformat_minor": 5
}
