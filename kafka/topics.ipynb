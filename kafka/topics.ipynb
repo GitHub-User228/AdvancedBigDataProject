{
 "cells": [
  {
   "cell_type": "code",
   "execution_count": 19,
   "id": "ef6e4495",
   "metadata": {},
   "outputs": [],
   "source": [
    "from kafka.admin import KafkaAdminClient, NewTopic"
   ]
  },
  {
   "cell_type": "code",
   "execution_count": 20,
   "id": "bcbcfb76",
   "metadata": {},
   "outputs": [],
   "source": [
    "admin_client = KafkaAdminClient(\n",
    "    bootstrap_servers=\"kafka-service:9092\",\n",
    "    api_version = (2, 8, 1) \n",
    ")\n"
   ]
  },
  {
   "cell_type": "code",
   "execution_count": 23,
   "id": "b49180be",
   "metadata": {},
   "outputs": [
    {
     "data": {
      "text/plain": [
       "['Features', 'Predictions', 'Price', '__consumer_offsets', 'Objects']"
      ]
     },
     "execution_count": 23,
     "metadata": {},
     "output_type": "execute_result"
    }
   ],
   "source": [
    "topic_list = []\n",
    "topic_list.append(NewTopic(name=\"Objects\", num_partitions=6, replication_factor=1))\n",
    "topic_list.append(NewTopic(name=\"Predictions\", num_partitions=6, replication_factor=1))\n",
    "topic_list.append(NewTopic(name=\"Price\", num_partitions=6, replication_factor=1))\n",
    "admin_client.create_topics(new_topics=topic_list, validate_only=False)\n",
    "topics = admin_client.list_topics()\n",
    "topics"
   ]
  },
  {
   "cell_type": "code",
   "execution_count": 15,
   "id": "cdaef58f",
   "metadata": {},
   "outputs": [],
   "source": []
  },
  {
   "cell_type": "code",
   "execution_count": null,
   "id": "c125ca18",
   "metadata": {},
   "outputs": [],
   "source": []
  }
 ],
 "metadata": {
  "kernelspec": {
   "display_name": "Python 3 (ipykernel)",
   "language": "python",
   "name": "python3"
  },
  "language_info": {
   "codemirror_mode": {
    "name": "ipython",
    "version": 3
   },
   "file_extension": ".py",
   "mimetype": "text/x-python",
   "name": "python",
   "nbconvert_exporter": "python",
   "pygments_lexer": "ipython3",
   "version": "3.8.8"
  }
 },
 "nbformat": 4,
 "nbformat_minor": 5
}
